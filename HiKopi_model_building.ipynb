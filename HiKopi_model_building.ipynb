{
  "cells": [
    {
      "cell_type": "markdown",
      "metadata": {
        "id": "Gx_CUY8ZA-qH"
      },
      "source": [
        "# **Final Project Grup 1**\n",
        "\n",
        "Model ini di bangun oleh:\n",
        "\n",
        "1. Fahri Arman Rasyad\n",
        "\n",
        "2. Harun\n",
        "\n",
        "3. Maulana Achsan\n",
        "\n",
        "4. Muhammad Aliansyah Ramadhan\n",
        "\n",
        "5. Muhammad Ashar Ihsan\n",
        "\n",
        "Kelas: RMT - 035"
      ]
    },
    {
      "cell_type": "markdown",
      "metadata": {
        "id": "QvhtSdi-dK6w"
      },
      "source": [
        "==================================================================================================="
      ]
    },
    {
      "cell_type": "markdown",
      "metadata": {
        "id": "wNkq4cKbGJTN"
      },
      "source": [
        "## **1.  Introduction**\n",
        "\n",
        "Cafe merupakan tempat yang sering digunakan untuk berkumpul dan bercengkerama baik itu dilakukan oleh anak muda, profesional, mahasiswa, dan banyak kalangan yang memakai kafe. Dalam pemilihan kafe banyak orang orang yang kecewa karena kafe tersebut mungkin tidak sesuai dengan harapan apa yang mereka inginkan. Oleh karena itu pada notebook ini kita akan mencoba untuk membuat model Natural Language Processing (NLP) dengan harapan akan sesuai dengan keinginan dari user.\n",
        "\n",
        "Ekspektasi model ini akan.\n",
        "1. User memasukkan filter daerah dan fasilitas.\n",
        "2. User akan memasukkan 3 kata kunci yang mereka inginkan sehingga akan keluar beberapa rekomendasi cafe sesuai dengan tempat fasilitas dan 3 kata kunci terpilih.  \n",
        "\n",
        "Contoh .\n",
        "\n",
        "Filter = (Pasar Minggu, 50000 )\n",
        "Fasilitas = (Wifi, Parkir)\n",
        "Keyword = (Nyaman, Tenang, Murah)\n",
        "\n",
        "Output\n",
        "\n",
        "1. Cafe Janji Jiwa\n",
        "2. Kopi Tuku\n",
        "3. Excelso.\n"
      ]
    },
    {
      "cell_type": "markdown",
      "metadata": {
        "id": "Ht1qKpspdOVb"
      },
      "source": [
        "==================================================================================================="
      ]
    },
    {
      "cell_type": "markdown",
      "metadata": {
        "id": "Uhl0MTlj130g"
      },
      "source": [
        "## **2. Import Libraries**"
      ]
    },
    {
      "cell_type": "markdown",
      "metadata": {
        "id": "JHTjPoycTjPv"
      },
      "source": [
        "Pada bagian ini, kami akan memastikan bahwa pysastrawi telah terinstall"
      ]
    },
    {
      "cell_type": "code",
      "execution_count": 3,
      "metadata": {
        "colab": {
          "base_uri": "https://localhost:8080/"
        },
        "id": "pzwhXVtVCDQm",
        "outputId": "a5290423-1d9d-400e-f7be-8ed8b9a044b4"
      },
      "outputs": [
        {
          "name": "stdout",
          "output_type": "stream",
          "text": [
            "Requirement already satisfied: pysastrawi in c:\\users\\alew\\appdata\\local\\anaconda3\\lib\\site-packages (1.2.0)\n"
          ]
        }
      ],
      "source": [
        "!pip install pysastrawi"
      ]
    },
    {
      "cell_type": "code",
      "execution_count": 4,
      "metadata": {
        "colab": {
          "base_uri": "https://localhost:8080/"
        },
        "id": "9xQvDufe1l_J",
        "outputId": "df974f6d-b600-4814-a651-edf6a807d4e9"
      },
      "outputs": [
        {
          "name": "stdout",
          "output_type": "stream",
          "text": [
            "Libraries has been imported\n"
          ]
        }
      ],
      "source": [
        "import warnings\n",
        "warnings.filterwarnings(\"ignore\")\n",
        "\n",
        "import pandas as pd\n",
        "import numpy as np\n",
        "import matplotlib.pyplot as plt\n",
        "import seaborn as sns\n",
        "import re\n",
        "\n",
        "import nltk\n",
        "from nltk.corpus import stopwords\n",
        "from Sastrawi.Stemmer.StemmerFactory import StemmerFactory\n",
        "from Sastrawi.StopWordRemover.StopWordRemoverFactory import StopWordRemoverFactory\n",
        "from wordcloud import WordCloud\n",
        "import gensim\n",
        "from gensim.models import Word2Vec\n",
        "\n",
        "print('Libraries has been imported')\n"
      ]
    },
    {
      "cell_type": "markdown",
      "metadata": {
        "id": "qqckm_n6IimA"
      },
      "source": [
        "Library telah berhasil di import"
      ]
    },
    {
      "cell_type": "markdown",
      "metadata": {
        "id": "rrZss0igTrpG"
      },
      "source": [
        "=============================================================================================="
      ]
    },
    {
      "cell_type": "markdown",
      "metadata": {
        "id": "wmwys3EaTt9r"
      },
      "source": [
        "Pada bagian ini, kami akan menggunakan stopwords dari NLTK untuk preproccessing data, \"stopwords\" di perlukan untuk memproses kata kata yang tidak di perlukan oleh model yang dapat membuat model menjadi kacau."
      ]
    },
    {
      "cell_type": "code",
      "execution_count": 5,
      "metadata": {
        "colab": {
          "base_uri": "https://localhost:8080/"
        },
        "id": "fxyIFaLdCWK8",
        "outputId": "709158b7-de40-4902-9505-ea422ccb04a5"
      },
      "outputs": [
        {
          "name": "stderr",
          "output_type": "stream",
          "text": [
            "[nltk_data] Downloading package stopwords to\n",
            "[nltk_data]     C:\\Users\\Alew\\AppData\\Roaming\\nltk_data...\n",
            "[nltk_data]   Package stopwords is already up-to-date!\n"
          ]
        },
        {
          "data": {
            "text/plain": [
              "True"
            ]
          },
          "execution_count": 5,
          "metadata": {},
          "output_type": "execute_result"
        }
      ],
      "source": [
        "nltk.download('stopwords')"
      ]
    },
    {
      "cell_type": "markdown",
      "metadata": {
        "id": "JDXV7if6dWXb"
      },
      "source": [
        "=============================================================================================="
      ]
    },
    {
      "cell_type": "markdown",
      "metadata": {
        "id": "QC4z5c0d2Gck"
      },
      "source": [
        "## **3. Load Data**"
      ]
    },
    {
      "cell_type": "markdown",
      "metadata": {
        "id": "ZpU74CTeT6n8"
      },
      "source": [
        "Sebelumnya, dataset yang telah di proses telah di upload ke dalam platform github, dan akan di load menggunakan library pandas."
      ]
    },
    {
      "cell_type": "code",
      "execution_count": 6,
      "metadata": {
        "colab": {
          "base_uri": "https://localhost:8080/",
          "height": 240
        },
        "id": "jWfnQa1Y2I1d",
        "outputId": "2e5a545e-122d-4c4a-cd77-5db5eeadc4bf"
      },
      "outputs": [
        {
          "data": {
            "text/html": [
              "<div>\n",
              "<style scoped>\n",
              "    .dataframe tbody tr th:only-of-type {\n",
              "        vertical-align: middle;\n",
              "    }\n",
              "\n",
              "    .dataframe tbody tr th {\n",
              "        vertical-align: top;\n",
              "    }\n",
              "\n",
              "    .dataframe thead th {\n",
              "        text-align: right;\n",
              "    }\n",
              "</style>\n",
              "<table border=\"1\" class=\"dataframe\">\n",
              "  <thead>\n",
              "    <tr style=\"text-align: right;\">\n",
              "      <th></th>\n",
              "      <th>title</th>\n",
              "      <th>kota</th>\n",
              "      <th>full_address</th>\n",
              "      <th>rate</th>\n",
              "      <th>cuisine</th>\n",
              "      <th>price_from</th>\n",
              "      <th>price_till</th>\n",
              "      <th>url</th>\n",
              "      <th>opening_hours</th>\n",
              "      <th>wifi_available</th>\n",
              "      <th>smoking_area_available</th>\n",
              "      <th>outdoor_seat_available</th>\n",
              "      <th>full_time_available</th>\n",
              "      <th>vip_room_available</th>\n",
              "      <th>reservation_available</th>\n",
              "      <th>parking_area_available</th>\n",
              "      <th>review</th>\n",
              "    </tr>\n",
              "  </thead>\n",
              "  <tbody>\n",
              "    <tr>\n",
              "      <th>1452</th>\n",
              "      <td>Starbucks SCBD</td>\n",
              "      <td>Jakarta</td>\n",
              "      <td>SCBD, Pacific Place Mall, Lantai 1, Galeries L...</td>\n",
              "      <td>3.86</td>\n",
              "      <td>Kafe</td>\n",
              "      <td>50000.0</td>\n",
              "      <td>100000.0</td>\n",
              "      <td>https://pergikuliner.com/restaurants/jakarta/s...</td>\n",
              "      <td>Senin - Minggu (10:00 - 22:00)</td>\n",
              "      <td>True</td>\n",
              "      <td>False</td>\n",
              "      <td>False</td>\n",
              "      <td>False</td>\n",
              "      <td>False</td>\n",
              "      <td>False</td>\n",
              "      <td>True</td>\n",
              "      <td>NEW!!!Gingerbread latte edisi holiday. Beli uk...</td>\n",
              "    </tr>\n",
              "  </tbody>\n",
              "</table>\n",
              "</div>"
            ],
            "text/plain": [
              "               title     kota  \\\n",
              "1452  Starbucks SCBD  Jakarta   \n",
              "\n",
              "                                           full_address  rate cuisine  \\\n",
              "1452  SCBD, Pacific Place Mall, Lantai 1, Galeries L...  3.86    Kafe   \n",
              "\n",
              "      price_from  price_till  \\\n",
              "1452     50000.0    100000.0   \n",
              "\n",
              "                                                    url  \\\n",
              "1452  https://pergikuliner.com/restaurants/jakarta/s...   \n",
              "\n",
              "                       opening_hours  wifi_available  smoking_area_available  \\\n",
              "1452  Senin - Minggu (10:00 - 22:00)            True                   False   \n",
              "\n",
              "      outdoor_seat_available  full_time_available  vip_room_available  \\\n",
              "1452                   False                False               False   \n",
              "\n",
              "      reservation_available  parking_area_available  \\\n",
              "1452                  False                    True   \n",
              "\n",
              "                                                 review  \n",
              "1452  NEW!!!Gingerbread latte edisi holiday. Beli uk...  "
            ]
          },
          "execution_count": 6,
          "metadata": {},
          "output_type": "execute_result"
        }
      ],
      "source": [
        "# Loading dataset\n",
        "df = pd.read_csv('https://raw.githubusercontent.com/FTDS-assignment-bay/p2-final-project-hikopi/refs/heads/main/Data/Data%20Cleaning/data_clean.csv')\n",
        "df.sample(1)"
      ]
    },
    {
      "cell_type": "markdown",
      "metadata": {
        "id": "6_e7jdK5IpOz"
      },
      "source": [
        "data telah berhasil di definisikan dan terlihat sudah ada sample data seperti di atas."
      ]
    },
    {
      "cell_type": "code",
      "execution_count": 7,
      "metadata": {
        "colab": {
          "base_uri": "https://localhost:8080/"
        },
        "id": "lE8-JEF70rOO",
        "outputId": "4020ec94-3142-478f-d72c-c8dc82246134"
      },
      "outputs": [
        {
          "data": {
            "text/plain": [
              "(1500, 17)"
            ]
          },
          "execution_count": 7,
          "metadata": {},
          "output_type": "execute_result"
        }
      ],
      "source": [
        "df.shape"
      ]
    },
    {
      "cell_type": "markdown",
      "metadata": {
        "id": "4VZ74OEJK8k8"
      },
      "source": [
        "terlihat disini ada 1500 baris dan 17 kolom."
      ]
    },
    {
      "cell_type": "markdown",
      "metadata": {
        "id": "M7Zm5oh1UWCd"
      },
      "source": [
        "==========================================================================================="
      ]
    },
    {
      "cell_type": "code",
      "execution_count": 8,
      "metadata": {
        "colab": {
          "base_uri": "https://localhost:8080/"
        },
        "id": "Q6z24VKxDDCR",
        "outputId": "6c439fcb-344d-4205-eeef-29c7676872d7"
      },
      "outputs": [
        {
          "name": "stdout",
          "output_type": "stream",
          "text": [
            "<class 'pandas.core.frame.DataFrame'>\n",
            "RangeIndex: 1500 entries, 0 to 1499\n",
            "Data columns (total 17 columns):\n",
            " #   Column                  Non-Null Count  Dtype  \n",
            "---  ------                  --------------  -----  \n",
            " 0   title                   1500 non-null   object \n",
            " 1   kota                    1500 non-null   object \n",
            " 2   full_address            1500 non-null   object \n",
            " 3   rate                    1500 non-null   float64\n",
            " 4   cuisine                 1500 non-null   object \n",
            " 5   price_from              1500 non-null   float64\n",
            " 6   price_till              1500 non-null   float64\n",
            " 7   url                     1500 non-null   object \n",
            " 8   opening_hours           1500 non-null   object \n",
            " 9   wifi_available          1500 non-null   bool   \n",
            " 10  smoking_area_available  1500 non-null   bool   \n",
            " 11  outdoor_seat_available  1500 non-null   bool   \n",
            " 12  full_time_available     1500 non-null   bool   \n",
            " 13  vip_room_available      1500 non-null   bool   \n",
            " 14  reservation_available   1500 non-null   bool   \n",
            " 15  parking_area_available  1500 non-null   bool   \n",
            " 16  review                  1500 non-null   object \n",
            "dtypes: bool(7), float64(3), object(7)\n",
            "memory usage: 127.6+ KB\n"
          ]
        }
      ],
      "source": [
        "df.info()"
      ]
    },
    {
      "cell_type": "markdown",
      "metadata": {
        "id": "gz2obOiGUQUh"
      },
      "source": [
        "Pada hasil di atas, terlihat bahwa nama dari masing masing kolom."
      ]
    },
    {
      "cell_type": "markdown",
      "metadata": {
        "id": "cipnH6k_UmxM"
      },
      "source": [
        "============================================================================================="
      ]
    },
    {
      "cell_type": "markdown",
      "metadata": {
        "id": "dOv3IsfuLbGn"
      },
      "source": [
        "Tabel atas sudah terlihat bahwa tidak ada null value meskipun demikian akan kita cek ulang nanti. kita lihat pada kolom rate bentuk data sudah menjadi float dan pada kolom fasilitas misalkan vip_room sudah berbentuk boolean.  title itu menunjukkan nama dari kafe nya."
      ]
    },
    {
      "cell_type": "code",
      "execution_count": 9,
      "metadata": {
        "colab": {
          "base_uri": "https://localhost:8080/",
          "height": 617
        },
        "id": "AnZQ963_QEcd",
        "outputId": "4d92e334-9cd3-4976-8115-0f828b834a7b"
      },
      "outputs": [
        {
          "data": {
            "text/plain": [
              "title                     0\n",
              "kota                      0\n",
              "full_address              0\n",
              "rate                      0\n",
              "cuisine                   0\n",
              "price_from                0\n",
              "price_till                0\n",
              "url                       0\n",
              "opening_hours             0\n",
              "wifi_available            0\n",
              "smoking_area_available    0\n",
              "outdoor_seat_available    0\n",
              "full_time_available       0\n",
              "vip_room_available        0\n",
              "reservation_available     0\n",
              "parking_area_available    0\n",
              "review                    0\n",
              "dtype: int64"
            ]
          },
          "execution_count": 9,
          "metadata": {},
          "output_type": "execute_result"
        }
      ],
      "source": [
        "df.isna().sum()"
      ]
    },
    {
      "cell_type": "markdown",
      "metadata": {
        "id": "DejX9vAFdb7X"
      },
      "source": [
        "=============================================================================================="
      ]
    },
    {
      "cell_type": "markdown",
      "metadata": {
        "id": "cUuSVDmNVlOk"
      },
      "source": [
        "## **4. Exploratory Data Analysis (EDA)**"
      ]
    },
    {
      "cell_type": "code",
      "execution_count": 10,
      "metadata": {
        "colab": {
          "base_uri": "https://localhost:8080/",
          "height": 285
        },
        "id": "pBbksc2CDE_r",
        "outputId": "9270df0a-50a3-4a32-ac42-5baccb64e481"
      },
      "outputs": [
        {
          "data": {
            "image/png": "[encoded data removed]",
            "text/plain": [
              "<Figure size 640x480 with 1 Axes>"
            ]
          },
          "metadata": {},
          "output_type": "display_data"
        }
      ],
      "source": [
        "corpus = \" \".join(df['cuisine'])\n",
        "word_cloud = WordCloud(max_words=100, background_color='white', min_font_size=10).generate(corpus)\n",
        "img = word_cloud.to_image()\n",
        "\n",
        "fig = plt.figure(1)\n",
        "plt.imshow(img)\n",
        "plt.axis('off')\n",
        "plt.show()"
      ]
    },
    {
      "cell_type": "markdown",
      "metadata": {
        "id": "_5om8GT2MKcx"
      },
      "source": [
        "Kita tampilkan jenis makanan yang sering terlihat dalam kolom cuisine. Tampilan akan berbentuk sebagai wordcloud. Terlihat kafe sudah menjadi hal yang paling sering muncul pada word cloud. Meskipun terlihat pada wordcloud masih muncul kata yang kemungkinan tidak menunjukkan kafe. Misalkan secara harfiah toko kue dan kafe itu berbeda. Namun data yang kita dapat sudah kita filter menjadi kafe pada dataset sumber. Sehingga kemungkinan itu adalah toko kue yang menjual kopi (penjelasan masuk akalnya)"
      ]
    },
    {
      "cell_type": "markdown",
      "metadata": {
        "id": "PGq59qiqdelb"
      },
      "source": [
        "=============================================================================================="
      ]
    },
    {
      "cell_type": "code",
      "execution_count": 11,
      "metadata": {
        "colab": {
          "base_uri": "https://localhost:8080/",
          "height": 285
        },
        "id": "RrtKKpQNUrlv",
        "outputId": "b92ada28-7cfa-4c25-ff79-78a4413f01c0"
      },
      "outputs": [
        {
          "data": {
            "image/png": "[encoded data removed]",
            "text/plain": [
              "<Figure size 640x480 with 1 Axes>"
            ]
          },
          "metadata": {},
          "output_type": "display_data"
        }
      ],
      "source": [
        "corpus = \" \".join(df['opening_hours'])\n",
        "word_cloud = WordCloud(max_words=100, background_color='white', min_font_size=10).generate(corpus)\n",
        "img = word_cloud.to_image()\n",
        "\n",
        "fig = plt.figure(1)\n",
        "plt.imshow(img)\n",
        "plt.axis('off')\n",
        "plt.show()"
      ]
    },
    {
      "cell_type": "markdown",
      "metadata": {
        "id": "g0wh_q4qM1_i"
      },
      "source": [
        "Rata-rata kafe buka di semua hari. Terlihat kata senin sampai minggu itu masuk kategori kata yang berukuran besar."
      ]
    },
    {
      "cell_type": "markdown",
      "metadata": {
        "id": "t1PInfb6dfii"
      },
      "source": [
        "=============================================================================================="
      ]
    },
    {
      "cell_type": "code",
      "execution_count": 12,
      "metadata": {
        "colab": {
          "base_uri": "https://localhost:8080/",
          "height": 551
        },
        "id": "x80T9wVGWEKg",
        "outputId": "52d07435-5fcb-42a2-afb6-e6654b218216"
      },
      "outputs": [
        {
          "data": {
            "text/html": [
              "<div>\n",
              "<style scoped>\n",
              "    .dataframe tbody tr th:only-of-type {\n",
              "        vertical-align: middle;\n",
              "    }\n",
              "\n",
              "    .dataframe tbody tr th {\n",
              "        vertical-align: top;\n",
              "    }\n",
              "\n",
              "    .dataframe thead th {\n",
              "        text-align: right;\n",
              "    }\n",
              "</style>\n",
              "<table border=\"1\" class=\"dataframe\">\n",
              "  <thead>\n",
              "    <tr style=\"text-align: right;\">\n",
              "      <th></th>\n",
              "      <th>kota</th>\n",
              "      <th>Jakarta</th>\n",
              "    </tr>\n",
              "  </thead>\n",
              "  <tbody>\n",
              "    <tr>\n",
              "      <th rowspan=\"8\" valign=\"top\">price_from</th>\n",
              "      <th>count</th>\n",
              "      <td>1500.000000</td>\n",
              "    </tr>\n",
              "    <tr>\n",
              "      <th>mean</th>\n",
              "      <td>43233.333333</td>\n",
              "    </tr>\n",
              "    <tr>\n",
              "      <th>std</th>\n",
              "      <td>40828.791504</td>\n",
              "    </tr>\n",
              "    <tr>\n",
              "      <th>min</th>\n",
              "      <td>0.000000</td>\n",
              "    </tr>\n",
              "    <tr>\n",
              "      <th>25%</th>\n",
              "      <td>0.000000</td>\n",
              "    </tr>\n",
              "    <tr>\n",
              "      <th>50%</th>\n",
              "      <td>50000.000000</td>\n",
              "    </tr>\n",
              "    <tr>\n",
              "      <th>75%</th>\n",
              "      <td>50000.000000</td>\n",
              "    </tr>\n",
              "    <tr>\n",
              "      <th>max</th>\n",
              "      <td>200000.000000</td>\n",
              "    </tr>\n",
              "    <tr>\n",
              "      <th rowspan=\"8\" valign=\"top\">price_till</th>\n",
              "      <th>count</th>\n",
              "      <td>1500.000000</td>\n",
              "    </tr>\n",
              "    <tr>\n",
              "      <th>mean</th>\n",
              "      <td>105466.666667</td>\n",
              "    </tr>\n",
              "    <tr>\n",
              "      <th>std</th>\n",
              "      <td>63003.400765</td>\n",
              "    </tr>\n",
              "    <tr>\n",
              "      <th>min</th>\n",
              "      <td>50000.000000</td>\n",
              "    </tr>\n",
              "    <tr>\n",
              "      <th>25%</th>\n",
              "      <td>50000.000000</td>\n",
              "    </tr>\n",
              "    <tr>\n",
              "      <th>50%</th>\n",
              "      <td>100000.000000</td>\n",
              "    </tr>\n",
              "    <tr>\n",
              "      <th>75%</th>\n",
              "      <td>100000.000000</td>\n",
              "    </tr>\n",
              "    <tr>\n",
              "      <th>max</th>\n",
              "      <td>400000.000000</td>\n",
              "    </tr>\n",
              "  </tbody>\n",
              "</table>\n",
              "</div>"
            ],
            "text/plain": [
              "kota                    Jakarta\n",
              "price_from count    1500.000000\n",
              "           mean    43233.333333\n",
              "           std     40828.791504\n",
              "           min         0.000000\n",
              "           25%         0.000000\n",
              "           50%     50000.000000\n",
              "           75%     50000.000000\n",
              "           max    200000.000000\n",
              "price_till count    1500.000000\n",
              "           mean   105466.666667\n",
              "           std     63003.400765\n",
              "           min     50000.000000\n",
              "           25%     50000.000000\n",
              "           50%    100000.000000\n",
              "           75%    100000.000000\n",
              "           max    400000.000000"
            ]
          },
          "execution_count": 12,
          "metadata": {},
          "output_type": "execute_result"
        }
      ],
      "source": [
        "# Group by kota dan price_from, price_till untuk melihat statistiknya\n",
        "price_stats = df.groupby('kota')[['price_from', 'price_till']].describe().T\n",
        "price_stats"
      ]
    },
    {
      "cell_type": "code",
      "execution_count": 13,
      "metadata": {
        "colab": {
          "base_uri": "https://localhost:8080/",
          "height": 1000
        },
        "id": "MNpKF338XHta",
        "outputId": "aad9512e-2a6c-4f07-d261-31ee57516ece"
      },
      "outputs": [
        {
          "data": {
            "image/png": "[encoded data removed]",
            "text/plain": [
              "<Figure size 1000x600 with 1 Axes>"
            ]
          },
          "metadata": {},
          "output_type": "display_data"
        },
        {
          "data": {
            "image/png": "[encoded data removed]",
            "text/plain": [
              "<Figure size 1000x600 with 1 Axes>"
            ]
          },
          "metadata": {},
          "output_type": "display_data"
        }
      ],
      "source": [
        "# Plot price_from\n",
        "plt.figure(figsize=(10, 6))\n",
        "sns.boxplot(x='kota', y='price_from', data=df)\n",
        "plt.title('Comparison of Price From')\n",
        "plt.show()\n",
        "\n",
        "# Plot price_till\n",
        "plt.figure(figsize=(10, 6))\n",
        "sns.boxplot(x='kota', y='price_till', data=df)\n",
        "plt.title('Comparison of Price Till')\n",
        "plt.show()"
      ]
    },
    {
      "cell_type": "markdown",
      "metadata": {
        "id": "gD-WIV7MXSp6"
      },
      "source": [
        "Kafe-kafe di Jakarta menunjukkan harga rata-rata price_from sebesar Rp43.233 dan price_till sebesar Rp105.466. Median untuk price_from dan price_till masing-masing adalah Rp50.000 dan Rp100.000. Ini berarti sebagian besar kafe memulai harga di sekitar Rp50.000, dengan harga tertinggi yang biasa ditemukan di sekitar Rp100.000. Harga rata-rata menunjukkan bahwa meskipun ada variasi, sebagian besar kafe cenderung menjaga harga dalam rentang yang cukup terjangkau."
      ]
    },
    {
      "cell_type": "markdown",
      "metadata": {
        "id": "_0Ns5dD0diYI"
      },
      "source": [
        "=============================================================================================="
      ]
    },
    {
      "cell_type": "code",
      "execution_count": 14,
      "metadata": {
        "colab": {
          "base_uri": "https://localhost:8080/",
          "height": 487
        },
        "id": "BOATiKlAXcBB",
        "outputId": "6218303f-d0d2-490c-c94e-06480165e89d"
      },
      "outputs": [
        {
          "data": {
            "image/png": "[encoded data removed]",
            "text/plain": [
              "<Figure size 800x500 with 1 Axes>"
            ]
          },
          "metadata": {},
          "output_type": "display_data"
        }
      ],
      "source": [
        "# Plot distribusi rating tiap tempat\n",
        "plt.figure(figsize=(8, 5))\n",
        "sns.histplot(df['rate'].dropna(), bins=10)\n",
        "plt.title('Distribution of Cafe Ratings in Jakarta')\n",
        "plt.xlabel('Rating')\n",
        "plt.ylabel('Frequency')\n",
        "plt.show()"
      ]
    },
    {
      "cell_type": "markdown",
      "metadata": {
        "id": "LqyVio6LXh4y"
      },
      "source": [
        "Sebagian besar cafe di Jakarta memiliki rating antara 4.0 hingga 4.5, menunjukkan bahwa cafe umumnya mendapatkan penilaian yang baik."
      ]
    },
    {
      "cell_type": "markdown",
      "metadata": {
        "id": "rW58g-pjdjAj"
      },
      "source": [
        "=============================================================================================="
      ]
    },
    {
      "cell_type": "code",
      "execution_count": 15,
      "metadata": {
        "colab": {
          "base_uri": "https://localhost:8080/",
          "height": 487
        },
        "id": "EifWxa4UXmRs",
        "outputId": "f190f19f-d7b1-46ac-8879-e1e1c8f57acd"
      },
      "outputs": [
        {
          "data": {
            "image/png": "[encoded data removed]",
            "text/plain": [
              "<Figure size 800x500 with 1 Axes>"
            ]
          },
          "metadata": {},
          "output_type": "display_data"
        }
      ],
      "source": [
        "# Scatter plot of price_from vs price_till\n",
        "plt.figure(figsize=(8, 5))\n",
        "sns.scatterplot(x='price_from', y='price_till', data=df)\n",
        "for index, row in df.iterrows():\n",
        "    plt.axhline(y=row['price_till'], color='gray', linestyle='--', linewidth=0.5)\n",
        "    plt.axvline(x=row['price_from'], color='gray', linestyle='--', linewidth=0.5)\n",
        "plt.title('Price From vs Price Till in Jakarta')\n",
        "plt.xlabel('Price From')\n",
        "plt.ylabel('Price Till')\n",
        "plt.show()"
      ]
    },
    {
      "cell_type": "markdown",
      "metadata": {
        "id": "-Wjqjr9VXrRM"
      },
      "source": [
        "Sebagian besar cafe di Jakarta memiliki harga maksimum yang tidak jauh berbeda dari harga minimum, dengan beberapa cafe yang memiliki rentang harga yang lebih lebar."
      ]
    },
    {
      "cell_type": "markdown",
      "metadata": {
        "id": "naPymG1ldjy7"
      },
      "source": [
        "=============================================================================================="
      ]
    },
    {
      "cell_type": "code",
      "execution_count": 16,
      "metadata": {
        "colab": {
          "base_uri": "https://localhost:8080/",
          "height": 1000
        },
        "id": "tQyZF3twXtIz",
        "outputId": "31eb8e91-2e51-4bc5-f5cc-e610f5188be7"
      },
      "outputs": [
        {
          "data": {
            "text/html": [
              "<div>\n",
              "<style scoped>\n",
              "    .dataframe tbody tr th:only-of-type {\n",
              "        vertical-align: middle;\n",
              "    }\n",
              "\n",
              "    .dataframe tbody tr th {\n",
              "        vertical-align: top;\n",
              "    }\n",
              "\n",
              "    .dataframe thead th {\n",
              "        text-align: right;\n",
              "    }\n",
              "</style>\n",
              "<table border=\"1\" class=\"dataframe\">\n",
              "  <thead>\n",
              "    <tr style=\"text-align: right;\">\n",
              "      <th></th>\n",
              "      <th>Cuisine Type</th>\n",
              "      <th>Count</th>\n",
              "    </tr>\n",
              "  </thead>\n",
              "  <tbody>\n",
              "    <tr>\n",
              "      <th>0</th>\n",
              "      <td>Kafe</td>\n",
              "      <td>1329</td>\n",
              "    </tr>\n",
              "    <tr>\n",
              "      <th>1</th>\n",
              "      <td>Minuman</td>\n",
              "      <td>50</td>\n",
              "    </tr>\n",
              "    <tr>\n",
              "      <th>2</th>\n",
              "      <td>Indonesia</td>\n",
              "      <td>22</td>\n",
              "    </tr>\n",
              "    <tr>\n",
              "      <th>3</th>\n",
              "      <td>Toko Roti, Kafe</td>\n",
              "      <td>13</td>\n",
              "    </tr>\n",
              "    <tr>\n",
              "      <th>4</th>\n",
              "      <td>Toko Roti dan Kue, Kafe</td>\n",
              "      <td>12</td>\n",
              "    </tr>\n",
              "    <tr>\n",
              "      <th>5</th>\n",
              "      <td>Barat</td>\n",
              "      <td>9</td>\n",
              "    </tr>\n",
              "    <tr>\n",
              "      <th>6</th>\n",
              "      <td>China</td>\n",
              "      <td>9</td>\n",
              "    </tr>\n",
              "    <tr>\n",
              "      <th>7</th>\n",
              "      <td>Toko Kue, Kafe</td>\n",
              "      <td>8</td>\n",
              "    </tr>\n",
              "    <tr>\n",
              "      <th>8</th>\n",
              "      <td>Kafe, Singapura</td>\n",
              "      <td>4</td>\n",
              "    </tr>\n",
              "    <tr>\n",
              "      <th>9</th>\n",
              "      <td>Toko Roti dan Kue</td>\n",
              "      <td>4</td>\n",
              "    </tr>\n",
              "    <tr>\n",
              "      <th>10</th>\n",
              "      <td>Jepang</td>\n",
              "      <td>4</td>\n",
              "    </tr>\n",
              "    <tr>\n",
              "      <th>11</th>\n",
              "      <td>Barat, Indonesia</td>\n",
              "      <td>3</td>\n",
              "    </tr>\n",
              "    <tr>\n",
              "      <th>12</th>\n",
              "      <td>Italia</td>\n",
              "      <td>3</td>\n",
              "    </tr>\n",
              "    <tr>\n",
              "      <th>13</th>\n",
              "      <td>Thailand</td>\n",
              "      <td>3</td>\n",
              "    </tr>\n",
              "    <tr>\n",
              "      <th>14</th>\n",
              "      <td>Toko Roti</td>\n",
              "      <td>2</td>\n",
              "    </tr>\n",
              "    <tr>\n",
              "      <th>15</th>\n",
              "      <td>Indonesia, Barat, Jepang</td>\n",
              "      <td>2</td>\n",
              "    </tr>\n",
              "    <tr>\n",
              "      <th>16</th>\n",
              "      <td>Indonesia, Barat</td>\n",
              "      <td>2</td>\n",
              "    </tr>\n",
              "    <tr>\n",
              "      <th>17</th>\n",
              "      <td>Toko Kue</td>\n",
              "      <td>2</td>\n",
              "    </tr>\n",
              "    <tr>\n",
              "      <th>18</th>\n",
              "      <td>Vegetarian</td>\n",
              "      <td>2</td>\n",
              "    </tr>\n",
              "    <tr>\n",
              "      <th>19</th>\n",
              "      <td>beragam</td>\n",
              "      <td>2</td>\n",
              "    </tr>\n",
              "    <tr>\n",
              "      <th>20</th>\n",
              "      <td>Korea</td>\n",
              "      <td>2</td>\n",
              "    </tr>\n",
              "    <tr>\n",
              "      <th>21</th>\n",
              "      <td>Snack</td>\n",
              "      <td>1</td>\n",
              "    </tr>\n",
              "    <tr>\n",
              "      <th>22</th>\n",
              "      <td>Eropa, Indonesia</td>\n",
              "      <td>1</td>\n",
              "    </tr>\n",
              "    <tr>\n",
              "      <th>23</th>\n",
              "      <td>Donat</td>\n",
              "      <td>1</td>\n",
              "    </tr>\n",
              "    <tr>\n",
              "      <th>24</th>\n",
              "      <td>Toko Kue, Minuman</td>\n",
              "      <td>1</td>\n",
              "    </tr>\n",
              "    <tr>\n",
              "      <th>25</th>\n",
              "      <td>Eropa</td>\n",
              "      <td>1</td>\n",
              "    </tr>\n",
              "    <tr>\n",
              "      <th>26</th>\n",
              "      <td>Perancis, Italia</td>\n",
              "      <td>1</td>\n",
              "    </tr>\n",
              "    <tr>\n",
              "      <th>27</th>\n",
              "      <td>Kafe, Belanda</td>\n",
              "      <td>1</td>\n",
              "    </tr>\n",
              "    <tr>\n",
              "      <th>28</th>\n",
              "      <td>Mnuman</td>\n",
              "      <td>1</td>\n",
              "    </tr>\n",
              "    <tr>\n",
              "      <th>29</th>\n",
              "      <td>Barat, Jepang, Italia</td>\n",
              "      <td>1</td>\n",
              "    </tr>\n",
              "    <tr>\n",
              "      <th>30</th>\n",
              "      <td>Jepang, Kafe</td>\n",
              "      <td>1</td>\n",
              "    </tr>\n",
              "    <tr>\n",
              "      <th>31</th>\n",
              "      <td>Vietnam</td>\n",
              "      <td>1</td>\n",
              "    </tr>\n",
              "    <tr>\n",
              "      <th>32</th>\n",
              "      <td>Barat, Indonesia, Jepang</td>\n",
              "      <td>1</td>\n",
              "    </tr>\n",
              "    <tr>\n",
              "      <th>33</th>\n",
              "      <td>Kafe, Toko Roti</td>\n",
              "      <td>1</td>\n",
              "    </tr>\n",
              "  </tbody>\n",
              "</table>\n",
              "</div>"
            ],
            "text/plain": [
              "                Cuisine Type  Count\n",
              "0                       Kafe   1329\n",
              "1                    Minuman     50\n",
              "2                  Indonesia     22\n",
              "3            Toko Roti, Kafe     13\n",
              "4    Toko Roti dan Kue, Kafe     12\n",
              "5                      Barat      9\n",
              "6                      China      9\n",
              "7             Toko Kue, Kafe      8\n",
              "8            Kafe, Singapura      4\n",
              "9          Toko Roti dan Kue      4\n",
              "10                    Jepang      4\n",
              "11          Barat, Indonesia      3\n",
              "12                    Italia      3\n",
              "13                  Thailand      3\n",
              "14                 Toko Roti      2\n",
              "15  Indonesia, Barat, Jepang      2\n",
              "16          Indonesia, Barat      2\n",
              "17                  Toko Kue      2\n",
              "18                Vegetarian      2\n",
              "19                   beragam      2\n",
              "20                     Korea      2\n",
              "21                     Snack      1\n",
              "22          Eropa, Indonesia      1\n",
              "23                     Donat      1\n",
              "24         Toko Kue, Minuman      1\n",
              "25                     Eropa      1\n",
              "26          Perancis, Italia      1\n",
              "27             Kafe, Belanda      1\n",
              "28                    Mnuman      1\n",
              "29     Barat, Jepang, Italia      1\n",
              "30              Jepang, Kafe      1\n",
              "31                   Vietnam      1\n",
              "32  Barat, Indonesia, Jepang      1\n",
              "33           Kafe, Toko Roti      1"
            ]
          },
          "execution_count": 16,
          "metadata": {},
          "output_type": "execute_result"
        }
      ],
      "source": [
        "# Count the number of occurrences of each cuisine\n",
        "cuisine_distribution = df['cuisine'].value_counts().reset_index()\n",
        "cuisine_distribution.columns = ['Cuisine Type', 'Count']\n",
        "cuisine_distribution"
      ]
    },
    {
      "cell_type": "markdown",
      "metadata": {
        "id": "SRqky4vjXwT2"
      },
      "source": [
        "Insight:\n",
        "- Dominasi Kafe:\n",
        "\n",
        "Kafe merupakan jenis tempat makan yang sangat dominan di Jakarta, dengan total 1.329 entri. Jumlah ini sangat jauh di atas jenis cuisine lain. Hal ini bisa mengindikasikan bahwa tren nongkrong atau bersosialisasi di kafe sangat kuat di Jakarta. Kafe di Jakarta bisa saja beragam, dari yang menawarkan kopi hingga makanan ringan, yang menargetkan pasar muda dan profesional.\n",
        "\n",
        "- Keanekaragaman Jenis Cuisine:\n",
        "\n",
        "Meskipun kafe mendominasi, Jakarta tetap menawarkan keragaman cuisine, dengan jenis seperti Toko Roti (35), China (20), Jepang (15), dan Italia (12). Ini menunjukkan bahwa ada variasi pilihan makanan, meskipun jumlahnya tidak sebanyak kafe. Ini juga bisa menunjukkan bahwa restoran-restoran spesifik seperti ini lebih fokus pada niche pasar tertentu.\n",
        "\n",
        "- Restoran Internasional di Jakarta:\n",
        "\n",
        "Kehadiran cuisine Jepang, Italia, India, dan China menggambarkan preferensi masyarakat urban Jakarta yang mulai mengadopsi dan menggemari makanan internasional. Restoran jenis ini mungkin berada di area dengan target pelanggan kelas menengah ke atas atau berada di pusat perbelanjaan."
      ]
    },
    {
      "cell_type": "markdown",
      "metadata": {
        "id": "G1Frqw2GdlV2"
      },
      "source": [
        "=============================================================================================="
      ]
    },
    {
      "cell_type": "code",
      "execution_count": 17,
      "metadata": {
        "colab": {
          "base_uri": "https://localhost:8080/",
          "height": 529
        },
        "id": "g7o0h3bVX0_W",
        "outputId": "415ff93a-2052-47bf-9719-7300abcf4d08"
      },
      "outputs": [
        {
          "data": {
            "image/png": "[encoded data removed]",
            "text/plain": [
              "<Figure size 800x500 with 1 Axes>"
            ]
          },
          "metadata": {},
          "output_type": "display_data"
        }
      ],
      "source": [
        "# Categorize cafes menggunakan price_from (merepresentasikan harga minimum yang dikenakan oleh cafe)\n",
        "df['price_category'] = pd.cut(df['price_from'], bins=[0, 25000, 100000, 400000], labels=['Low', 'Medium', 'High'])\n",
        "\n",
        "# Plot the distribution of price categories\n",
        "plt.figure(figsize=(8, 5))\n",
        "df['price_category'].value_counts().plot(kind='bar')\n",
        "plt.title('Price Category Distribution in Jakarta')\n",
        "plt.xlabel('Price Category')\n",
        "plt.ylabel('Count')\n",
        "plt.show()"
      ]
    },
    {
      "cell_type": "markdown",
      "metadata": {
        "id": "SCtWj4VWX22g"
      },
      "source": [
        "- Low Category (Rp0 - Rp25.000): Hanya sedikit cafe yang menawarkan harga di bawah Rp25.000. Ini menunjukkan bahwa cafe di Jakarta umumnya menetapkan harga yang cukup tinggi untuk layanan mereka.\n",
        "- Medium Category (Rp25.000 - Rp100.000): Mayoritas cafe di Jakarta berada dalam rentang harga ini, yang mencerminkan tren harga yang terjangkau namun tidak terlalu murah.\n",
        "- High Category (Rp100.000 - Rp400.000): Ada sejumlah cafe yang menetapkan harga minimum di atas Rp100.000, yang menunjukkan segmen pasar yang lebih premium."
      ]
    },
    {
      "cell_type": "markdown",
      "metadata": {
        "id": "Pemdo8g2dmGq"
      },
      "source": [
        "=============================================================================================="
      ]
    },
    {
      "cell_type": "markdown",
      "metadata": {
        "id": "DbgHFPaRV3-h"
      },
      "source": [
        "## **5. Data Preprocessing**"
      ]
    },
    {
      "cell_type": "markdown",
      "metadata": {
        "id": "p8WCX3XDdpA0"
      },
      "source": [
        "Pada bagian ini, kami akan melakukan Data Preprocessing, hal ini di perlukan karena komputer tidak dapat menangani tulisan manusia, namun komputer akan mengganti masing masing kata menjadi vector menggunakan word2vec dan banyak lainnya di bawah."
      ]
    },
    {
      "cell_type": "markdown",
      "metadata": {
        "id": "Phjg0wc1d6_r"
      },
      "source": [
        "=============================================================================================="
      ]
    },
    {
      "cell_type": "markdown",
      "metadata": {
        "id": "wnBN-jujd_Q1"
      },
      "source": [
        "Pada project ini, kami membutuhkan dataset dari luar yaitu \"colloquial-indonesian-lexicon.csv\" dan \"formalize_word.csv\". Dataset ini di perlukan untuk normalisasi dan mem formalisasi data agar dapat di baca oleh library pysastrawi"
      ]
    },
    {
      "cell_type": "code",
      "execution_count": 18,
      "metadata": {
        "id": "rU1KRyu7Uyix"
      },
      "outputs": [],
      "source": [
        "lexicon = pd.read_csv('https://raw.githubusercontent.com/FTDS-assignment-bay/p2-final-project-hikopi/refs/heads/main/Text%20Preproccessing/colloquial-indonesian-lexicon.csv')\n",
        "formalize = pd.read_csv('https://raw.githubusercontent.com/FTDS-assignment-bay/p2-final-project-hikopi/refs/heads/main/Text%20Preproccessing/formalize_word.csv')"
      ]
    },
    {
      "cell_type": "markdown",
      "metadata": {
        "id": "Tny9CSYIeXQc"
      },
      "source": [
        "=============================================================================================="
      ]
    },
    {
      "cell_type": "code",
      "execution_count": 19,
      "metadata": {
        "colab": {
          "base_uri": "https://localhost:8080/",
          "height": 423
        },
        "id": "LbUS-3YWU2E7",
        "outputId": "ba815ce8-e6e3-4be6-d99b-da122c917332"
      },
      "outputs": [
        {
          "data": {
            "text/html": [
              "<div>\n",
              "<style scoped>\n",
              "    .dataframe tbody tr th:only-of-type {\n",
              "        vertical-align: middle;\n",
              "    }\n",
              "\n",
              "    .dataframe tbody tr th {\n",
              "        vertical-align: top;\n",
              "    }\n",
              "\n",
              "    .dataframe thead th {\n",
              "        text-align: right;\n",
              "    }\n",
              "</style>\n",
              "<table border=\"1\" class=\"dataframe\">\n",
              "  <thead>\n",
              "    <tr style=\"text-align: right;\">\n",
              "      <th></th>\n",
              "      <th>slang</th>\n",
              "      <th>formal</th>\n",
              "      <th>In-dictionary</th>\n",
              "      <th>context</th>\n",
              "      <th>category1</th>\n",
              "      <th>category2</th>\n",
              "      <th>category3</th>\n",
              "    </tr>\n",
              "  </thead>\n",
              "  <tbody>\n",
              "    <tr>\n",
              "      <th>0</th>\n",
              "      <td>woww</td>\n",
              "      <td>wow</td>\n",
              "      <td>1</td>\n",
              "      <td>wow</td>\n",
              "      <td>elongasi</td>\n",
              "      <td>0</td>\n",
              "      <td>0</td>\n",
              "    </tr>\n",
              "    <tr>\n",
              "      <th>1</th>\n",
              "      <td>aminn</td>\n",
              "      <td>amin</td>\n",
              "      <td>1</td>\n",
              "      <td>Selamat ulang tahun kakak tulus semoga panjang...</td>\n",
              "      <td>elongasi</td>\n",
              "      <td>0</td>\n",
              "      <td>0</td>\n",
              "    </tr>\n",
              "    <tr>\n",
              "      <th>2</th>\n",
              "      <td>met</td>\n",
              "      <td>selamat</td>\n",
              "      <td>1</td>\n",
              "      <td>Met hari netaas kak!? Wish you all the best @t...</td>\n",
              "      <td>abreviasi</td>\n",
              "      <td>0</td>\n",
              "      <td>0</td>\n",
              "    </tr>\n",
              "    <tr>\n",
              "      <th>3</th>\n",
              "      <td>netaas</td>\n",
              "      <td>menetas</td>\n",
              "      <td>1</td>\n",
              "      <td>Met hari netaas kak!? Wish you all the best @t...</td>\n",
              "      <td>afiksasi</td>\n",
              "      <td>elongasi</td>\n",
              "      <td>0</td>\n",
              "    </tr>\n",
              "    <tr>\n",
              "      <th>4</th>\n",
              "      <td>keberpa</td>\n",
              "      <td>keberapa</td>\n",
              "      <td>0</td>\n",
              "      <td>Birthday yg keberpa kak?</td>\n",
              "      <td>abreviasi</td>\n",
              "      <td>0</td>\n",
              "      <td>0</td>\n",
              "    </tr>\n",
              "    <tr>\n",
              "      <th>...</th>\n",
              "      <td>...</td>\n",
              "      <td>...</td>\n",
              "      <td>...</td>\n",
              "      <td>...</td>\n",
              "      <td>...</td>\n",
              "      <td>...</td>\n",
              "      <td>...</td>\n",
              "    </tr>\n",
              "    <tr>\n",
              "      <th>15001</th>\n",
              "      <td>gataunya</td>\n",
              "      <td>tidak taunya</td>\n",
              "      <td>0</td>\n",
              "      <td>Ini kaya nenek2 ya beb gataunya agnezz @yugime...</td>\n",
              "      <td>akronim</td>\n",
              "      <td>0</td>\n",
              "      <td>0</td>\n",
              "    </tr>\n",
              "    <tr>\n",
              "      <th>15002</th>\n",
              "      <td>gtau</td>\n",
              "      <td>tidak tau</td>\n",
              "      <td>0</td>\n",
              "      <td>Stidaknya mrka may berkarya Dan berusaha yg tr...</td>\n",
              "      <td>akronim</td>\n",
              "      <td>abreviasi</td>\n",
              "      <td>0</td>\n",
              "    </tr>\n",
              "    <tr>\n",
              "      <th>15003</th>\n",
              "      <td>gatau</td>\n",
              "      <td>tidak tau</td>\n",
              "      <td>0</td>\n",
              "      <td>Ih gatau malu</td>\n",
              "      <td>akronim</td>\n",
              "      <td>0</td>\n",
              "      <td>0</td>\n",
              "    </tr>\n",
              "    <tr>\n",
              "      <th>15004</th>\n",
              "      <td>fans2</td>\n",
              "      <td>fan-fan</td>\n",
              "      <td>0</td>\n",
              "      <td>Jkt48 adalah tempat di mana sesama fans saling...</td>\n",
              "      <td>reduplikasi</td>\n",
              "      <td>naturalisasi</td>\n",
              "      <td>0</td>\n",
              "    </tr>\n",
              "    <tr>\n",
              "      <th>15005</th>\n",
              "      <td>gaharus</td>\n",
              "      <td>tidak harus</td>\n",
              "      <td>0</td>\n",
              "      <td>belajar tuh bisa dimana aja gaharus belajar di...</td>\n",
              "      <td>akronim</td>\n",
              "      <td>0</td>\n",
              "      <td>0</td>\n",
              "    </tr>\n",
              "  </tbody>\n",
              "</table>\n",
              "<p>15006 rows × 7 columns</p>\n",
              "</div>"
            ],
            "text/plain": [
              "          slang        formal  In-dictionary  \\\n",
              "0          woww           wow              1   \n",
              "1         aminn          amin              1   \n",
              "2           met       selamat              1   \n",
              "3        netaas       menetas              1   \n",
              "4       keberpa      keberapa              0   \n",
              "...         ...           ...            ...   \n",
              "15001  gataunya  tidak taunya              0   \n",
              "15002      gtau     tidak tau              0   \n",
              "15003     gatau     tidak tau              0   \n",
              "15004     fans2       fan-fan              0   \n",
              "15005   gaharus   tidak harus              0   \n",
              "\n",
              "                                                 context    category1  \\\n",
              "0                                                    wow     elongasi   \n",
              "1      Selamat ulang tahun kakak tulus semoga panjang...     elongasi   \n",
              "2      Met hari netaas kak!? Wish you all the best @t...    abreviasi   \n",
              "3      Met hari netaas kak!? Wish you all the best @t...     afiksasi   \n",
              "4                               Birthday yg keberpa kak?    abreviasi   \n",
              "...                                                  ...          ...   \n",
              "15001  Ini kaya nenek2 ya beb gataunya agnezz @yugime...      akronim   \n",
              "15002  Stidaknya mrka may berkarya Dan berusaha yg tr...      akronim   \n",
              "15003                                      Ih gatau malu      akronim   \n",
              "15004  Jkt48 adalah tempat di mana sesama fans saling...  reduplikasi   \n",
              "15005  belajar tuh bisa dimana aja gaharus belajar di...      akronim   \n",
              "\n",
              "          category2 category3  \n",
              "0                 0         0  \n",
              "1                 0         0  \n",
              "2                 0         0  \n",
              "3          elongasi         0  \n",
              "4                 0         0  \n",
              "...             ...       ...  \n",
              "15001             0         0  \n",
              "15002     abreviasi         0  \n",
              "15003             0         0  \n",
              "15004  naturalisasi         0  \n",
              "15005             0         0  \n",
              "\n",
              "[15006 rows x 7 columns]"
            ]
          },
          "execution_count": 19,
          "metadata": {},
          "output_type": "execute_result"
        }
      ],
      "source": [
        "lexicon"
      ]
    },
    {
      "cell_type": "code",
      "execution_count": 20,
      "metadata": {
        "colab": {
          "base_uri": "https://localhost:8080/",
          "height": 645
        },
        "id": "OLXBh-e5U6fn",
        "outputId": "c326e163-eff0-4caa-8d18-94962c7fd315"
      },
      "outputs": [
        {
          "data": {
            "text/html": [
              "<div>\n",
              "<style scoped>\n",
              "    .dataframe tbody tr th:only-of-type {\n",
              "        vertical-align: middle;\n",
              "    }\n",
              "\n",
              "    .dataframe tbody tr th {\n",
              "        vertical-align: top;\n",
              "    }\n",
              "\n",
              "    .dataframe thead th {\n",
              "        text-align: right;\n",
              "    }\n",
              "</style>\n",
              "<table border=\"1\" class=\"dataframe\">\n",
              "  <thead>\n",
              "    <tr style=\"text-align: right;\">\n",
              "      <th></th>\n",
              "      <th>Slang</th>\n",
              "      <th>Formal</th>\n",
              "    </tr>\n",
              "  </thead>\n",
              "  <tbody>\n",
              "    <tr>\n",
              "      <th>0</th>\n",
              "      <td>bgs</td>\n",
              "      <td>bagus</td>\n",
              "    </tr>\n",
              "    <tr>\n",
              "      <th>1</th>\n",
              "      <td>jg</td>\n",
              "      <td>juga</td>\n",
              "    </tr>\n",
              "    <tr>\n",
              "      <th>2</th>\n",
              "      <td>Hy</td>\n",
              "      <td>hai</td>\n",
              "    </tr>\n",
              "    <tr>\n",
              "      <th>3</th>\n",
              "      <td>dlm</td>\n",
              "      <td>dalam</td>\n",
              "    </tr>\n",
              "    <tr>\n",
              "      <th>4</th>\n",
              "      <td>Mgkn</td>\n",
              "      <td>mungkin</td>\n",
              "    </tr>\n",
              "    <tr>\n",
              "      <th>5</th>\n",
              "      <td>krn</td>\n",
              "      <td>karena</td>\n",
              "    </tr>\n",
              "    <tr>\n",
              "      <th>6</th>\n",
              "      <td>hr</td>\n",
              "      <td>hari</td>\n",
              "    </tr>\n",
              "    <tr>\n",
              "      <th>7</th>\n",
              "      <td>dgn</td>\n",
              "      <td>dengan</td>\n",
              "    </tr>\n",
              "    <tr>\n",
              "      <th>8</th>\n",
              "      <td>utk</td>\n",
              "      <td>untuk</td>\n",
              "    </tr>\n",
              "    <tr>\n",
              "      <th>9</th>\n",
              "      <td>kek</td>\n",
              "      <td>seperti</td>\n",
              "    </tr>\n",
              "    <tr>\n",
              "      <th>10</th>\n",
              "      <td>kayak</td>\n",
              "      <td>seperti</td>\n",
              "    </tr>\n",
              "    <tr>\n",
              "      <th>11</th>\n",
              "      <td>kyk</td>\n",
              "      <td>seperti</td>\n",
              "    </tr>\n",
              "    <tr>\n",
              "      <th>12</th>\n",
              "      <td>gt</td>\n",
              "      <td>begitu</td>\n",
              "    </tr>\n",
              "    <tr>\n",
              "      <th>13</th>\n",
              "      <td>udh</td>\n",
              "      <td>sudah</td>\n",
              "    </tr>\n",
              "    <tr>\n",
              "      <th>14</th>\n",
              "      <td>ga</td>\n",
              "      <td>tidak</td>\n",
              "    </tr>\n",
              "    <tr>\n",
              "      <th>15</th>\n",
              "      <td>gw</td>\n",
              "      <td>saya</td>\n",
              "    </tr>\n",
              "    <tr>\n",
              "      <th>16</th>\n",
              "      <td>sm</td>\n",
              "      <td>sama</td>\n",
              "    </tr>\n",
              "    <tr>\n",
              "      <th>17</th>\n",
              "      <td>tmn</td>\n",
              "      <td>teman</td>\n",
              "    </tr>\n",
              "    <tr>\n",
              "      <th>18</th>\n",
              "      <td>bday</td>\n",
              "      <td>Ulang Tahun</td>\n",
              "    </tr>\n",
              "  </tbody>\n",
              "</table>\n",
              "</div>"
            ],
            "text/plain": [
              "    Slang       Formal\n",
              "0     bgs        bagus\n",
              "1      jg         juga\n",
              "2      Hy          hai\n",
              "3     dlm        dalam\n",
              "4    Mgkn      mungkin\n",
              "5     krn       karena\n",
              "6      hr         hari\n",
              "7     dgn       dengan\n",
              "8     utk        untuk\n",
              "9     kek      seperti\n",
              "10  kayak      seperti\n",
              "11    kyk      seperti\n",
              "12     gt       begitu\n",
              "13    udh        sudah\n",
              "14     ga        tidak\n",
              "15     gw         saya\n",
              "16     sm         sama\n",
              "17    tmn        teman\n",
              "18   bday  Ulang Tahun"
            ]
          },
          "execution_count": 20,
          "metadata": {},
          "output_type": "execute_result"
        }
      ],
      "source": [
        "formalize"
      ]
    },
    {
      "cell_type": "code",
      "execution_count": 21,
      "metadata": {
        "colab": {
          "base_uri": "https://localhost:8080/"
        },
        "id": "7fsJrsvSU-E_",
        "outputId": "1b16af43-0907-45fd-b6b3-4bab6578186b"
      },
      "outputs": [
        {
          "data": {
            "text/plain": [
              "{'woww': 'wow',\n",
              " 'aminn': 'amin',\n",
              " 'met': 'selamat',\n",
              " 'netaas': 'menetas',\n",
              " 'keberpa': 'keberapa',\n",
              " 'eeeehhhh': 'eh',\n",
              " 'kata2nyaaa': 'kata-katanya',\n",
              " 'hallo': 'halo',\n",
              " 'kaka': 'kakak',\n",
              " 'ka': 'kak'}"
            ]
          },
          "execution_count": 21,
          "metadata": {},
          "output_type": "execute_result"
        }
      ],
      "source": [
        "# Melihat 10 data awal lexicon\n",
        "dict_lexicon = pd.Series(lexicon.formal.values,index=lexicon.slang).to_dict()\n",
        "dict_lexicon['brg'] = 'barang'\n",
        "dict_lexicon['kw']='tiruan'\n",
        "dict(list(dict_lexicon.items())[:10])"
      ]
    },
    {
      "cell_type": "markdown",
      "metadata": {
        "id": "KHUqgndoOLxu"
      },
      "source": [
        "kita coba dulu pada kamus lexicon untuk beberapa terlihat memang kata-kata itu sudah menjadi lebih formal dibandingkan kata yang sebelumnya. misalkan kata aminn menjadi amin, kata amin ini cenderung lebih formal dibandingkan dengan yang mempunyai 2 huruf n. Ini biasanya karena elongasi atau mungkin typo dan pada saat kita chatting kepada teman atau pemberian review. Terkadang pemberian huruf-huruf tambahan setelah satu kata itu menunjukkan adanya urgensi yang bisa diperhatikan pembaca (kultur indonesia). Dengan menggunakan lexicon ini nantinya akan bisa lebih formal dan model bisa melakukan pemberian rekomendasi yang benar pada akhirnya.   "
      ]
    },
    {
      "cell_type": "code",
      "execution_count": 22,
      "metadata": {
        "colab": {
          "base_uri": "https://localhost:8080/"
        },
        "id": "O-C4cumvVBLb",
        "outputId": "f609bf7e-22a8-4582-d841-6eb07b1b2359"
      },
      "outputs": [
        {
          "data": {
            "text/plain": [
              "{'bgs': 'bagus',\n",
              " 'jg': 'juga',\n",
              " 'Hy': 'hai',\n",
              " 'dlm': 'dalam',\n",
              " 'Mgkn': 'mungkin',\n",
              " 'krn': 'karena',\n",
              " 'hr': 'hari',\n",
              " 'dgn': 'dengan',\n",
              " 'utk': 'untuk',\n",
              " 'kek': 'seperti'}"
            ]
          },
          "execution_count": 22,
          "metadata": {},
          "output_type": "execute_result"
        }
      ],
      "source": [
        "# Melihat 10 data awal\n",
        "dict_formalize = pd.Series(formalize.Formal.values,index=formalize.Slang).to_dict()\n",
        "dict(list(dict_formalize.items())[:10])"
      ]
    },
    {
      "cell_type": "markdown",
      "metadata": {
        "id": "R6q-0QxgJXUu"
      },
      "source": [
        "Terlihat juga singkatan sudah menjadi kata-kata yang lebih formal. Sering orang indonesia menggunakan kata singkatan ketika texting (dalam konteks ini menulis review pada ranah sosial )"
      ]
    },
    {
      "cell_type": "code",
      "execution_count": 23,
      "metadata": {
        "id": "H9XgCpOkVD8q"
      },
      "outputs": [],
      "source": [
        "# copy dataset for safety reason\n",
        "df1 = df.iloc[0:1500] # penggunaan iloc untuk copy"
      ]
    },
    {
      "cell_type": "markdown",
      "metadata": {
        "id": "vkbyOYqBemn-"
      },
      "source": [
        "=============================================================================================="
      ]
    },
    {
      "cell_type": "markdown",
      "metadata": {
        "id": "Vt07qqeQJikL"
      },
      "source": [
        "Sebelum melakukan preprocessing lanjutan kita mencoba untuk membuat copy dari dataset asli dan kemudian kita masukkan ke variabel baru.\n",
        "\n",
        "setelah pembuatan copy dari dataset asli kita akan melakukan preprocessing untuk menghilangkan tanda titik, koma, emoji, angka dan lain sebagainya terlihat di fungsi setelah cell code ini."
      ]
    },
    {
      "cell_type": "code",
      "execution_count": 24,
      "metadata": {
        "id": "UmjMi_KaVYwJ"
      },
      "outputs": [],
      "source": [
        "# Fungsi untuk membersihkan teks\n",
        "def clean_text(text):\n",
        "    emoj = re.compile(\"[\"\n",
        "        u\"\\U0001F600-\\U0001F64F\"\n",
        "        u\"\\U0001F300-\\U0001F5FF\"\n",
        "        u\"\\U0001F680-\\U0001F6FF\"\n",
        "        u\"\\U0001F1E0-\\U0001F1FF\"\n",
        "        u\"\\U00002500-\\U00002BEF\"\n",
        "        u\"\\U00002702-\\U000027B0\"\n",
        "        u\"\\U00002702-\\U000027B0\"\n",
        "        u\"\\U000024C2-\\U0001F251\"\n",
        "        u\"\\U0001f926-\\U0001f937\"\n",
        "        u\"\\U00010000-\\U0010ffff\"\n",
        "        u\"\\u2640-\\u2642\"\n",
        "        u\"\\u2600-\\u2B55\"\n",
        "        u\"\\u200d\"\n",
        "        u\"\\u23cf\"\n",
        "        u\"\\u23e9\"\n",
        "        u\"\\u231a\"\n",
        "        u\"\\ufe0f\"\n",
        "        u\"\\u3030\"\n",
        "                      \"]+\", re.UNICODE)\n",
        "\n",
        "  #  text = text.lower()                                                                                 # membuat huruf menjadi kecil\n",
        "    text = re.sub(emoj, '', text)                                                                       # remove emoji\n",
        "    text = re.sub(r'(.)\\1{2,}', r'\\1', text)                                                            # mengubah huruf berulang diatas 2 kali menjadi 1 saja\n",
        "    text = re.sub(\"[0-9]\", \" \", text)                                                                   # remove numbers\n",
        "    text = re.sub(\"(Diterjemahkan oleh Google)\", \" \", text)\n",
        "    text = re.sub(\"'s\", \" \", text)\n",
        "    text = re.sub(\"[¹²³¹⁰ⁱ⁴⁵⁶⁷⁸⁹⁺⁻⁼⁽⁾ⁿ]\", \"\", text)                                                     # remove power character\n",
        "    text = re.sub(\"[^A-Za-z\\s']\",\"\", text)\n",
        "    text = re.sub(\"[^\\w\\s]*[_,.!?#&;:><+-/)/(\\'\\\"]\", \" \", text)                                         # remove bukan string dan whitespace\n",
        "    text = ' '.join([re.sub(r'nya', '', i) for i in text.split()])                                 # menghapus akhir kata 'nya' atau 'ny'\n",
        "    text = \" \".join(dict_lexicon[w] if w in dict_lexicon else w for w in text.split())                  # replace sesuai dict_lexicon\n",
        "    text = \" \".join(dict_formalize[w] if w in dict_formalize else w for w in text.split())              # replace sesuai dict_formalize\n",
        "    text = re.sub(\" +\", \" \", text.strip())                                                              # Remove unnecessary white space\n",
        "    return text\n",
        "\n",
        "def cleaned(df1):\n",
        "    df1['text_preprocessed'] = df1['review'].apply(clean_text)\n",
        "    return df1"
      ]
    },
    {
      "cell_type": "markdown",
      "metadata": {
        "id": "-xlD1nYYRF90"
      },
      "source": [
        "Fungsi clean ini merupakan pembersihan dari review sehingga bisa lebih dibaca dan lebih formal. Terlihat penggunaan regex dan emoji-emoji dalam bentuk kodifikasi pada awal-awal.\n",
        "\n",
        "setelah itu akan dipanggil di fungsi kedua dan pembuatan kolom baru pada df1 menjadi kolom baru bernama df1['textpreprocessed']"
      ]
    },
    {
      "cell_type": "code",
      "execution_count": 25,
      "metadata": {
        "colab": {
          "base_uri": "https://localhost:8080/",
          "height": 363
        },
        "id": "w7yJ_66QVg4l",
        "outputId": "984fcf2c-1ca7-4549-dde3-47d918b5d8d9"
      },
      "outputs": [
        {
          "data": {
            "text/html": [
              "<div>\n",
              "<style scoped>\n",
              "    .dataframe tbody tr th:only-of-type {\n",
              "        vertical-align: middle;\n",
              "    }\n",
              "\n",
              "    .dataframe tbody tr th {\n",
              "        vertical-align: top;\n",
              "    }\n",
              "\n",
              "    .dataframe thead th {\n",
              "        text-align: right;\n",
              "    }\n",
              "</style>\n",
              "<table border=\"1\" class=\"dataframe\">\n",
              "  <thead>\n",
              "    <tr style=\"text-align: right;\">\n",
              "      <th></th>\n",
              "      <th>review</th>\n",
              "      <th>price_category</th>\n",
              "      <th>text_preprocessed</th>\n",
              "    </tr>\n",
              "  </thead>\n",
              "  <tbody>\n",
              "    <tr>\n",
              "      <th>0</th>\n",
              "      <td>Food is excellent, absolutely delicious. The p...</td>\n",
              "      <td>Medium</td>\n",
              "      <td>Food is excellent absolutely delicious The pri...</td>\n",
              "    </tr>\n",
              "    <tr>\n",
              "      <th>1</th>\n",
              "      <td>Buka dari pagi, komplir menu sarapan sampe mak...</td>\n",
              "      <td>Medium</td>\n",
              "      <td>Buka dari pagi komplir menu sarapan sampai mak...</td>\n",
              "    </tr>\n",
              "    <tr>\n",
              "      <th>2</th>\n",
              "      <td>Toko tuku pertama kali di cipete ini, ternyata...</td>\n",
              "      <td>NaN</td>\n",
              "      <td>Toko tuku pertama kali di cipete ini terta sek...</td>\n",
              "    </tr>\n",
              "    <tr>\n",
              "      <th>3</th>\n",
              "      <td>*Review untuk pesan antar (via gojek) atau tak...</td>\n",
              "      <td>NaN</td>\n",
              "      <td>Review untuk pesan antar via gojek atau takeaw...</td>\n",
              "    </tr>\n",
              "    <tr>\n",
              "      <th>4</th>\n",
              "      <td>I need my morning coffee. Cuzz ke Kopi Selamat...</td>\n",
              "      <td>Medium</td>\n",
              "      <td>I need my morning coffee Cuzz ke Kopi Selamat ...</td>\n",
              "    </tr>\n",
              "    <tr>\n",
              "      <th>5</th>\n",
              "      <td>Tempatnya bisa dibilang agak hidden, karena ma...</td>\n",
              "      <td>Medium</td>\n",
              "      <td>Tempat bisa dibilang agak hidden karena masuk ...</td>\n",
              "    </tr>\n",
              "    <tr>\n",
              "      <th>6</th>\n",
              "      <td>jenis makanan yang disediakan disini banyak ba...</td>\n",
              "      <td>High</td>\n",
              "      <td>jenis makanan yang disediakan disini bak bange...</td>\n",
              "    </tr>\n",
              "    <tr>\n",
              "      <th>7</th>\n",
              "      <td>🍴 Ini adalah pengalaman pertama kali buatku me...</td>\n",
              "      <td>Medium</td>\n",
              "      <td>Ini adalah pengalaman pertama kali buatku menc...</td>\n",
              "    </tr>\n",
              "    <tr>\n",
              "      <th>8</th>\n",
              "      <td>Nyaman bgt tempatnya buat kerja karena wifi ny...</td>\n",
              "      <td>Medium</td>\n",
              "      <td>Nyaman banget tempat buat kerja karena wifi ke...</td>\n",
              "    </tr>\n",
              "    <tr>\n",
              "      <th>9</th>\n",
              "      <td>Pulang kerja makan disini, bisa parkir di depa...</td>\n",
              "      <td>Medium</td>\n",
              "      <td>Pulang kerja makan disini bisa parkir di depan...</td>\n",
              "    </tr>\n",
              "  </tbody>\n",
              "</table>\n",
              "</div>"
            ],
            "text/plain": [
              "                                              review price_category  \\\n",
              "0  Food is excellent, absolutely delicious. The p...         Medium   \n",
              "1  Buka dari pagi, komplir menu sarapan sampe mak...         Medium   \n",
              "2  Toko tuku pertama kali di cipete ini, ternyata...            NaN   \n",
              "3  *Review untuk pesan antar (via gojek) atau tak...            NaN   \n",
              "4  I need my morning coffee. Cuzz ke Kopi Selamat...         Medium   \n",
              "5  Tempatnya bisa dibilang agak hidden, karena ma...         Medium   \n",
              "6  jenis makanan yang disediakan disini banyak ba...           High   \n",
              "7  🍴 Ini adalah pengalaman pertama kali buatku me...         Medium   \n",
              "8  Nyaman bgt tempatnya buat kerja karena wifi ny...         Medium   \n",
              "9  Pulang kerja makan disini, bisa parkir di depa...         Medium   \n",
              "\n",
              "                                   text_preprocessed  \n",
              "0  Food is excellent absolutely delicious The pri...  \n",
              "1  Buka dari pagi komplir menu sarapan sampai mak...  \n",
              "2  Toko tuku pertama kali di cipete ini terta sek...  \n",
              "3  Review untuk pesan antar via gojek atau takeaw...  \n",
              "4  I need my morning coffee Cuzz ke Kopi Selamat ...  \n",
              "5  Tempat bisa dibilang agak hidden karena masuk ...  \n",
              "6  jenis makanan yang disediakan disini bak bange...  \n",
              "7  Ini adalah pengalaman pertama kali buatku menc...  \n",
              "8  Nyaman banget tempat buat kerja karena wifi ke...  \n",
              "9  Pulang kerja makan disini bisa parkir di depan...  "
            ]
          },
          "execution_count": 25,
          "metadata": {},
          "output_type": "execute_result"
        }
      ],
      "source": [
        "# pemakaian fungsi dari cleaned() yang sudah di definisikan\n",
        "cleaned(df1)\n",
        "# cek hasil dengan menggunakan slicing untuk 4 baris awal dan 2 kolom terakhir\n",
        "df1.iloc[0:10,16:]"
      ]
    },
    {
      "cell_type": "markdown",
      "metadata": {
        "id": "nX_RSyfaSuHR"
      },
      "source": [
        "Kita lihat dari baris ke-0 terlebih dahulu pada kolom (review) awal masih menggunakan tanda titik dan koma. pada kolom (text_preprocessed)sudah tidak ada titik dan koma. Perbedaan jelas juga terlihat pada baris nomor 7 ada emotikon garpu dan pisau pada kolom sampingnya sudah terlihat. Disini sudah cukup bukti bahwa fungsi kita berjalan dengan baik."
      ]
    },
    {
      "cell_type": "code",
      "execution_count": 26,
      "metadata": {
        "colab": {
          "base_uri": "https://localhost:8080/",
          "height": 285
        },
        "id": "1TfhVzDOWOpn",
        "outputId": "dc9c915c-0309-4a34-f25f-69f2f226f6b6"
      },
      "outputs": [
        {
          "data": {
            "image/png": "[encoded data removed]",
            "text/plain": [
              "<Figure size 640x480 with 1 Axes>"
            ]
          },
          "metadata": {},
          "output_type": "display_data"
        }
      ],
      "source": [
        "corpus = \" \".join(df1['text_preprocessed'])\n",
        "word_cloud = WordCloud(max_words=100, background_color='white', min_font_size=10).generate(corpus)\n",
        "img = word_cloud.to_image()\n",
        "\n",
        "fig = plt.figure(1)\n",
        "plt.imshow(img)\n",
        "plt.axis('off')\n",
        "plt.show()"
      ]
    },
    {
      "cell_type": "code",
      "execution_count": 27,
      "metadata": {
        "colab": {
          "base_uri": "https://localhost:8080/"
        },
        "id": "wx_hEUpyNb1L",
        "outputId": "3ddda952-b263-4bd2-f150-391e81feb9a4"
      },
      "outputs": [
        {
          "name": "stdout",
          "output_type": "stream",
          "text": [
            "Jumlah kolom dalam df1: 19\n"
          ]
        }
      ],
      "source": [
        "print(\"Jumlah kolom dalam df1:\", df1.shape[1])"
      ]
    },
    {
      "cell_type": "code",
      "execution_count": 28,
      "metadata": {
        "colab": {
          "base_uri": "https://localhost:8080/"
        },
        "id": "RClVPfKzTzkL",
        "outputId": "b5ad2fc6-2984-41ab-f020-cc0359810421"
      },
      "outputs": [
        {
          "name": "stdout",
          "output_type": "stream",
          "text": [
            "Original:  Tertarik ngafe di sini karena menjual aneka hidangan khas Belanda. Memempati bangunan di pinggir jalan area Pasar Baru yang estetik. Kafenya cukup ramai didatangin pekerja di pagi hari. Uniknya, area toilet dihias kaset video dan mesin tik jadul. Pesen soft serve ice cream (25k), poffertjes (40k) dan Americano (30k). Semua menu ngga butuh waktu lama buat disajikan. Soft servenya lembut dengan rasa vanila dan ukuran cukup besar. Poffertjesnya otentik dan enak sekali dimakan dengan lelehan butter serta gula halus. Kopinya strong, cukup bisa melawan kantuk di mata.;Makanan di Ams&Dam cukup okay, tapi menunya perlu ditambahkan lagi. Namun, saya kurang puas dengan pelayanannya. Pada tanggal 25 Juni 2024 jam 15:34, saat hujan deras, kakak saya mau keluar dari mobil menuju resto. Saya tanya ke barista dan pelayan apakah bisa pinjam payung, mereka bilang tidak ada. Akhirnya, saya terpaksa keluar dalam hujan untuk ambil payung dari mobil dan membantu kakak saya keluar. Setelah basah-basahan, satpam bilang ada payung di tempat satpam. Mohon untuk ke depannya pelayan resto lebih peka dan tahu jika resto punya payung untuk klien, jangan asal tidak tahu.;Datang kedua kalinya kesini pelayanan nya tetep ramah makanan konsisten enak, malah dapet ice cream gratis sambil nunggu pesanan datang 😻 bikin mau balik lagi makan minum disini rasanya 😃Makanan minuman disini gak diragukan lagi deh soal rasa, curiga yg punya alumni master chef hehehe\n",
            "Preprocessed:  nan\n"
          ]
        }
      ],
      "source": [
        "for i in list(np.random.randint(0, len(df1), 1)):\n",
        "    print('Original: ', df1.iloc[i, 16])\n",
        "    print('Preprocessed: ', df1.iloc[i, 17])"
      ]
    },
    {
      "cell_type": "markdown",
      "metadata": {
        "id": "h6A5wmV6UVHT"
      },
      "source": [
        "Kita coba melihat dulu bagaimana kata original dan preprocessed dalam satu kata saja sehingga terlihat bagaimana bentuk perubahannya. Mungkin perubahan bisa berbeda karena disini kita menggunakan function random.randint. Tapi intinya sama seperti di atas. angka, emoticon, tanda baca, dsb (seperti fungsi diatas) itu sudah terhapus. Terlihat original merupakan review awal dan preprocessed adalah kata yang sudah dilakukan perlakuan menggunakan fungsi cleaned(df1)"
      ]
    },
    {
      "cell_type": "code",
      "execution_count": 29,
      "metadata": {
        "id": "RvGZYP9bWc1e"
      },
      "outputs": [],
      "source": [
        "# mmebuat Function\n",
        "def stemmer_stopped(text):\n",
        "    stemmer_factory = StemmerFactory()\n",
        "    stemmer = stemmer_factory.create_stemmer()\n",
        "    text = stemmer.stem(text)\n",
        "\n",
        "    list_stopwords = set(stopwords.words('indonesian'))\n",
        "    stopword_factory = StopWordRemoverFactory()\n",
        "    stopwords_sastrawi = set(stopword_factory.get_stop_words())\n",
        "    list_stopwords = list_stopwords.union(stopwords_sastrawi)\n",
        "\n",
        "    text = \" \".join(w if w not in list_stopwords else '' for w in text.split())\n",
        "    text = re.sub(\" +\", \" \", text.strip())\n",
        "    return text\n",
        "\n",
        "def clean_stopword(df1):\n",
        "    df1['clean stopword'] = df1['text_preprocessed'].apply(stemmer_stopped)\n",
        "    return df1"
      ]
    },
    {
      "cell_type": "markdown",
      "metadata": {
        "id": "bC7Oj6mkpIvc"
      },
      "source": [
        "1. Fungsi stemmer_stopped(text):\n",
        "\n",
        "- Fungsi ini melakukan stemming (mengubah kata ke bentuk dasarnya) dan menghapus stopwords (kata umum seperti \"dan\", \"yang\") dari teks.\n",
        "- Proses:\n",
        "  - Menggunakan Sastrawi untuk stemming.\n",
        "  - Mengambil stopwords dari nltk dan Sastrawi.\n",
        "  - Menghapus stopwords dari teks dan membersihkan spasi berlebih.\n",
        "  - Hasil: Teks yang sudah di-stemming dan bebas dari stopwords.\n",
        "\n",
        "2. Fungsi clean_stopword(df1):\n",
        "\n",
        "- Fungsi ini menerapkan pembersihan stopwords pada kolom text_preprocessed di DataFrame df1.\n",
        "- Hasilnya disimpan di kolom baru bernama clean stopword.\n",
        "Mengembalikan DataFrame yang sudah diproses.\n",
        "\n",
        "kesimpulan:\n",
        "\n",
        "Kode ini adalah bagian dari proses pra-pemrosesan teks yang digunakan dalam analisis teks atau NLP (Natural Language Processing). Pertama, teks di-stemming untuk mendapatkan kata dasar, lalu stopwords dihapus untuk memperkecil jumlah kata yang tidak relevan dalam analisis. Fungsi clean_stopword mengotomatiskan penerapan fungsi ini pada DataFrame yang berisi teks."
      ]
    },
    {
      "cell_type": "markdown",
      "metadata": {
        "id": "4IR3Y7tSp1hF"
      },
      "source": [
        "Memanggil clean_stopword(df1):\n",
        "- Memproses kolom text_preprocessed dalam DataFrame df1 dan menghasilkan kolom baru bernama clean stopword yang berisi teks yang sudah bersih dari stopwords dan sudah di-stemmed.\n",
        "\n",
        "Memanggil df1.head():\n",
        "- menampilkan 5 baris pertama dari DataFrame df1.\n",
        "- Tujuan: Untuk memverifikasi hasil pembersihan stopwords dan stemming dengan melihat cuplikan dari DataFrame. Fungsi ini sangat berguna untuk mengecek apakah kolom clean stopword telah terisi dengan hasil teks yang sudah diproses."
      ]
    },
    {
      "cell_type": "code",
      "execution_count": 30,
      "metadata": {
        "colab": {
          "base_uri": "https://localhost:8080/",
          "height": 712
        },
        "id": "YPq0SMh7WgK0",
        "outputId": "4e1bb6d3-f8ee-4204-ab23-88a27fae7270"
      },
      "outputs": [
        {
          "data": {
            "text/html": [
              "<div>\n",
              "<style scoped>\n",
              "    .dataframe tbody tr th:only-of-type {\n",
              "        vertical-align: middle;\n",
              "    }\n",
              "\n",
              "    .dataframe tbody tr th {\n",
              "        vertical-align: top;\n",
              "    }\n",
              "\n",
              "    .dataframe thead th {\n",
              "        text-align: right;\n",
              "    }\n",
              "</style>\n",
              "<table border=\"1\" class=\"dataframe\">\n",
              "  <thead>\n",
              "    <tr style=\"text-align: right;\">\n",
              "      <th></th>\n",
              "      <th>title</th>\n",
              "      <th>kota</th>\n",
              "      <th>full_address</th>\n",
              "      <th>rate</th>\n",
              "      <th>cuisine</th>\n",
              "      <th>price_from</th>\n",
              "      <th>price_till</th>\n",
              "      <th>url</th>\n",
              "      <th>opening_hours</th>\n",
              "      <th>wifi_available</th>\n",
              "      <th>smoking_area_available</th>\n",
              "      <th>outdoor_seat_available</th>\n",
              "      <th>full_time_available</th>\n",
              "      <th>vip_room_available</th>\n",
              "      <th>reservation_available</th>\n",
              "      <th>parking_area_available</th>\n",
              "      <th>review</th>\n",
              "      <th>price_category</th>\n",
              "      <th>text_preprocessed</th>\n",
              "      <th>clean stopword</th>\n",
              "    </tr>\n",
              "  </thead>\n",
              "  <tbody>\n",
              "    <tr>\n",
              "      <th>0</th>\n",
              "      <td>Kohicha Cafe Kelapa Gading</td>\n",
              "      <td>Jakarta</td>\n",
              "      <td>Kelapa Gading, Ruko Gading Kirana, Blok A6A No...</td>\n",
              "      <td>4.36</td>\n",
              "      <td>Kafe</td>\n",
              "      <td>50000.0</td>\n",
              "      <td>100000.0</td>\n",
              "      <td>https://pergikuliner.com/restaurants/jakarta/k...</td>\n",
              "      <td>Senin - Minggu (08:00 - 22:00)</td>\n",
              "      <td>True</td>\n",
              "      <td>True</td>\n",
              "      <td>True</td>\n",
              "      <td>False</td>\n",
              "      <td>False</td>\n",
              "      <td>True</td>\n",
              "      <td>True</td>\n",
              "      <td>Food is excellent, absolutely delicious. The p...</td>\n",
              "      <td>Medium</td>\n",
              "      <td>Food is excellent absolutely delicious The pri...</td>\n",
              "      <td>food is excellent absolutely delicious the pri...</td>\n",
              "    </tr>\n",
              "    <tr>\n",
              "      <th>1</th>\n",
              "      <td>Hang Tuah Kopi &amp; Toastery Pecenongan</td>\n",
              "      <td>Jakarta</td>\n",
              "      <td>Pecenongan, Jl. Pecenongan No. 37, Pecenongan,...</td>\n",
              "      <td>4.53</td>\n",
              "      <td>Kafe</td>\n",
              "      <td>50000.0</td>\n",
              "      <td>100000.0</td>\n",
              "      <td>https://pergikuliner.com/restaurants/jakarta/h...</td>\n",
              "      <td>Senin - Minggu (07:00 - 22:00)</td>\n",
              "      <td>True</td>\n",
              "      <td>True</td>\n",
              "      <td>True</td>\n",
              "      <td>False</td>\n",
              "      <td>False</td>\n",
              "      <td>True</td>\n",
              "      <td>True</td>\n",
              "      <td>Buka dari pagi, komplir menu sarapan sampe mak...</td>\n",
              "      <td>Medium</td>\n",
              "      <td>Buka dari pagi komplir menu sarapan sampai mak...</td>\n",
              "      <td>buka pagi komplir menu sarap makan siang malam...</td>\n",
              "    </tr>\n",
              "    <tr>\n",
              "      <th>2</th>\n",
              "      <td>Toko Kopi Tuku Fatmawati</td>\n",
              "      <td>Jakarta</td>\n",
              "      <td>Fatmawati, Jl. Cipete Raya No. 7 (Sebelah Alfa...</td>\n",
              "      <td>4.00</td>\n",
              "      <td>Kafe</td>\n",
              "      <td>0.0</td>\n",
              "      <td>50000.0</td>\n",
              "      <td>https://pergikuliner.com/restaurants/jakarta/t...</td>\n",
              "      <td>Senin - Minggu (07:00 - 21:00)</td>\n",
              "      <td>True</td>\n",
              "      <td>True</td>\n",
              "      <td>True</td>\n",
              "      <td>False</td>\n",
              "      <td>False</td>\n",
              "      <td>False</td>\n",
              "      <td>False</td>\n",
              "      <td>Toko tuku pertama kali di cipete ini, ternyata...</td>\n",
              "      <td>NaN</td>\n",
              "      <td>Toko tuku pertama kali di cipete ini terta sek...</td>\n",
              "      <td>toko tuku cipete terta bedar cabang bak tuku c...</td>\n",
              "    </tr>\n",
              "    <tr>\n",
              "      <th>3</th>\n",
              "      <td>Kopi Susu Bu Lurah Setiabudi</td>\n",
              "      <td>Jakarta</td>\n",
              "      <td>Setiabudi, Warung MJS, Jl. Setiabudi Tengah No...</td>\n",
              "      <td>3.93</td>\n",
              "      <td>Kafe</td>\n",
              "      <td>0.0</td>\n",
              "      <td>50000.0</td>\n",
              "      <td>https://pergikuliner.com/restaurants/jakarta/k...</td>\n",
              "      <td>Senin - Minggu (10:00 - 23:00)</td>\n",
              "      <td>True</td>\n",
              "      <td>True</td>\n",
              "      <td>True</td>\n",
              "      <td>False</td>\n",
              "      <td>True</td>\n",
              "      <td>True</td>\n",
              "      <td>True</td>\n",
              "      <td>*Review untuk pesan antar (via gojek) atau tak...</td>\n",
              "      <td>NaN</td>\n",
              "      <td>Review untuk pesan antar via gojek atau takeaw...</td>\n",
              "      <td>review pesan via gojek takeaway kopi enam sasa...</td>\n",
              "    </tr>\n",
              "    <tr>\n",
              "      <th>4</th>\n",
              "      <td>Kopi Selamat Pagi Kelapa Gading</td>\n",
              "      <td>Jakarta</td>\n",
              "      <td>Kelapa Gading, Jl. Summagung III No. 17, Kelap...</td>\n",
              "      <td>4.34</td>\n",
              "      <td>Kafe</td>\n",
              "      <td>50000.0</td>\n",
              "      <td>100000.0</td>\n",
              "      <td>https://pergikuliner.com/restaurants/jakarta/k...</td>\n",
              "      <td>Senin - Minggu (09:00 - 21:00)</td>\n",
              "      <td>True</td>\n",
              "      <td>True</td>\n",
              "      <td>True</td>\n",
              "      <td>False</td>\n",
              "      <td>False</td>\n",
              "      <td>True</td>\n",
              "      <td>True</td>\n",
              "      <td>I need my morning coffee. Cuzz ke Kopi Selamat...</td>\n",
              "      <td>Medium</td>\n",
              "      <td>I need my morning coffee Cuzz ke Kopi Selamat ...</td>\n",
              "      <td>need my morning coffee cuzz kopi selamat pagi ...</td>\n",
              "    </tr>\n",
              "  </tbody>\n",
              "</table>\n",
              "</div>"
            ],
            "text/plain": [
              "                                  title     kota  \\\n",
              "0            Kohicha Cafe Kelapa Gading  Jakarta   \n",
              "1  Hang Tuah Kopi & Toastery Pecenongan  Jakarta   \n",
              "2              Toko Kopi Tuku Fatmawati  Jakarta   \n",
              "3          Kopi Susu Bu Lurah Setiabudi  Jakarta   \n",
              "4       Kopi Selamat Pagi Kelapa Gading  Jakarta   \n",
              "\n",
              "                                        full_address  rate cuisine  \\\n",
              "0  Kelapa Gading, Ruko Gading Kirana, Blok A6A No...  4.36    Kafe   \n",
              "1  Pecenongan, Jl. Pecenongan No. 37, Pecenongan,...  4.53    Kafe   \n",
              "2  Fatmawati, Jl. Cipete Raya No. 7 (Sebelah Alfa...  4.00    Kafe   \n",
              "3  Setiabudi, Warung MJS, Jl. Setiabudi Tengah No...  3.93    Kafe   \n",
              "4  Kelapa Gading, Jl. Summagung III No. 17, Kelap...  4.34    Kafe   \n",
              "\n",
              "   price_from  price_till                                                url  \\\n",
              "0     50000.0    100000.0  https://pergikuliner.com/restaurants/jakarta/k...   \n",
              "1     50000.0    100000.0  https://pergikuliner.com/restaurants/jakarta/h...   \n",
              "2         0.0     50000.0  https://pergikuliner.com/restaurants/jakarta/t...   \n",
              "3         0.0     50000.0  https://pergikuliner.com/restaurants/jakarta/k...   \n",
              "4     50000.0    100000.0  https://pergikuliner.com/restaurants/jakarta/k...   \n",
              "\n",
              "                    opening_hours  wifi_available  smoking_area_available  \\\n",
              "0  Senin - Minggu (08:00 - 22:00)            True                    True   \n",
              "1  Senin - Minggu (07:00 - 22:00)            True                    True   \n",
              "2  Senin - Minggu (07:00 - 21:00)            True                    True   \n",
              "3  Senin - Minggu (10:00 - 23:00)            True                    True   \n",
              "4  Senin - Minggu (09:00 - 21:00)            True                    True   \n",
              "\n",
              "   outdoor_seat_available  full_time_available  vip_room_available  \\\n",
              "0                    True                False               False   \n",
              "1                    True                False               False   \n",
              "2                    True                False               False   \n",
              "3                    True                False                True   \n",
              "4                    True                False               False   \n",
              "\n",
              "   reservation_available  parking_area_available  \\\n",
              "0                   True                    True   \n",
              "1                   True                    True   \n",
              "2                  False                   False   \n",
              "3                   True                    True   \n",
              "4                   True                    True   \n",
              "\n",
              "                                              review price_category  \\\n",
              "0  Food is excellent, absolutely delicious. The p...         Medium   \n",
              "1  Buka dari pagi, komplir menu sarapan sampe mak...         Medium   \n",
              "2  Toko tuku pertama kali di cipete ini, ternyata...            NaN   \n",
              "3  *Review untuk pesan antar (via gojek) atau tak...            NaN   \n",
              "4  I need my morning coffee. Cuzz ke Kopi Selamat...         Medium   \n",
              "\n",
              "                                   text_preprocessed  \\\n",
              "0  Food is excellent absolutely delicious The pri...   \n",
              "1  Buka dari pagi komplir menu sarapan sampai mak...   \n",
              "2  Toko tuku pertama kali di cipete ini terta sek...   \n",
              "3  Review untuk pesan antar via gojek atau takeaw...   \n",
              "4  I need my morning coffee Cuzz ke Kopi Selamat ...   \n",
              "\n",
              "                                      clean stopword  \n",
              "0  food is excellent absolutely delicious the pri...  \n",
              "1  buka pagi komplir menu sarap makan siang malam...  \n",
              "2  toko tuku cipete terta bedar cabang bak tuku c...  \n",
              "3  review pesan via gojek takeaway kopi enam sasa...  \n",
              "4  need my morning coffee cuzz kopi selamat pagi ...  "
            ]
          },
          "execution_count": 30,
          "metadata": {},
          "output_type": "execute_result"
        }
      ],
      "source": [
        "clean_stopword(df1)\n",
        "df1.head()"
      ]
    },
    {
      "cell_type": "markdown",
      "metadata": {
        "id": "GtbPagWStWXx"
      },
      "source": [
        "- Kolom clean stopword berisi teks ulasan yang sudah melalui proses stemming dan penghapusan stopwords.\n",
        "- hasil dari lima baris pertama untuk melihat bagaimana teks di kolom text_preprocessed telah diubah menjadi versi bersih di kolom clean stopword."
      ]
    },
    {
      "cell_type": "markdown",
      "metadata": {
        "id": "5WgdhkDvvOR-"
      },
      "source": [
        "Penjelasan Alur Kode\n",
        "\n",
        "1. **Perulangan dengan `for i in range(6):`**  \n",
        "   Looping ini berjalan sebanyak 6 kali (untuk 6 review pertama di DataFrame), menampilkan hasil sebelum dan sesudah pra-pemrosesan serta penghapusan stopwords.\n",
        "\n",
        "2. **Teks Asli Sebelum Pemrosesan**  \n",
        "   Kolom `review` menampilkan ulasan asli pelanggan sebelum diproses.\n",
        "\n",
        "3. **Teks Setelah Pra-pemrosesan**  \n",
        "   Kolom `text_preprocessed` menunjukkan hasil ulasan setelah dihilangkan tanda baca dan proses pembersihan dasar lainnya.\n",
        "\n",
        "4. **Teks Setelah Penghapusan Stopwords**  \n",
        "   Kolom `clean stopword` menampilkan hasil ulasan setelah melalui stemming dan penghapusan stopwords, sehingga hanya menyisakan kata-kata penting.\n",
        "\n",
        "\n"
      ]
    },
    {
      "cell_type": "markdown",
      "metadata": {
        "id": "vuNgScgtvyG8"
      },
      "source": [
        "Loop akan mengulangi proses ini untuk 6 review pertama dan menampilkan perbedaan di antara tiga tahap: review asli, setelah pra-pemrosesan, dan setelah penghapusan stopwords."
      ]
    },
    {
      "cell_type": "code",
      "execution_count": 31,
      "metadata": {
        "colab": {
          "base_uri": "https://localhost:8080/"
        },
        "id": "2rE1hL3vW4Gx",
        "outputId": "f55bdf73-79ee-4fe5-d70d-ab30d9581ccf"
      },
      "outputs": [
        {
          "name": "stdout",
          "output_type": "stream",
          "text": [
            "Before :\n",
            "Food is excellent, absolutely delicious. The prices were reasonable, and staff is so friendly 🤗;Makanan disini semua enak. Makanan & minumannya semua punya rasa sendiri yg unik. Kokinya pinter masaknya. Chicken wings nya (nagoya tebasaki) enak. Karaage & gyudon nya juga;Cafe vibes Jepang di Kelapa Gading. Aku surah beberapa kali ke Kohicha. Lokasinya ada di ruko Gading Kirana, dekat gerbang indomaret kembar 😅.Kali ini aku makan ber3. kita pesan :- Chicken nanban gohan (70k) : nanbannya enak bgt, ayamnya gede di guyur mayo dan lemon, asem segerin dan ayamnyq uda dibumbui jadi merasuk. disajikan dengan nasi porsi pas dan sayur serta jamur. worth bgt.- Chicken katsu curry (70k) : porsinya gede bgt, katsu nya tebel bgt dagingnya, dijamin bakal puas bgt dan sangat mengenyangkan. currynya bold and tasty.- Caesar salad (55k): sayurnya seger bgt, dilengkapi topping potongan ayam gede bgt, dan telur 1. ini siih worth bgt rasanya nya jg seger dan cukup mengenyangkan untuk makanan sehat seperti inj.- Yuzu Lemon ice tea (38k) : asem seger ala minuman so refreshing- Kiku Mint (38k):  teh unik dengan hint minty , teh nya agak pahit tp mint nya berasa bgt aromanya. Pesen hot bisa refill air panas 2x . tapi aku ga refill, ku rasa cukup hehe.Kohicha selalu ada promo dan program kumpulin stamp untuk dapet voucher. seruu yaa\n",
            "------------------------------------------------------------------------------------------------------------------------------------------------------\n",
            "After :\n",
            "Food is excellent absolutely delicious The prices were reasonable and staff is sok friendly Makanan disini semua enak Makanan minuman semua punya rasa sendiri yang unik Koki pintar masak Chicken wings nagoya tebasaki enak Karaage gyudon jugaCafe vibes Jepang di Kelapa Gading Aku surah beberapa kali ke Kohicha Lokasi ada di ruko Gading Kirana dekat gerbang indomaret kembar Kali ini aku makan ber kita pesan Chicken nanban gohan ke nanban enak banget ayam gede di guyur mayo dan lemon asem segerin dan ayamnyq sudah dibumbui jadi merasuk disajikan dengan nasi porsi pas dan sayur serta jamur worth banget Chicken katsu curry ke porsi gede banget katsu tebal banget daging dijamin bakal puas banget dan sangat mengengkan curry bold and tasty Caesar salad ke sayur segar banget dilengkapi topping potongan ayam gede banget dan telur ini sih worth banget rasa juga segar dan cukup mengengkan untuk makanan sehat seperti inj Yuzu Lemon ice tea ke asem segar ala minuman sok refreshing Kiku Mint ke teh unik dengan hint minty teh agak pahit tapi mint berasa banget aroma Pesen hot bisa refill air panas kali tapi aku tidak refill ku rasa cukup heheKohicha selalu ada promo dan program kumpulin stamp untuk dapat voucher seru ya\n",
            "------------------------------------------------------------------------------------------------------------------------------------------------------\n",
            "After Clean Stopword :\n",
            "food is excellent absolutely delicious the prices were reasonable and staff is sok friendly makan makan minum unik koki pintar masak chicken wings nagoya tebasaki karaage gyudon jugacafe vibes jepang kelapa gading surah kohicha lokasi ruko gading kirana gerbang indomaret kembar makan ber pesan chicken nanban gohan nanban banget ayam gede guyur mayo lemon asem gin ayamnyq bumbu rasuk saji nasi porsi pas sayur jamur worth banget chicken katsu curry porsi gede banget katsu tebal banget daging jamin puas banget keng curry bold and tasty caesar salad sayur segar banget lengkap topping potong ayam gede banget telur sih worth banget segar keng makan sehat inj yuzu lemon ice tea asem segar ala minum sok refreshing kiku mint teh unik hint minty teh pahit mint asa banget aroma sen hot refill air panas refill ku hehekohicha promo program kumpulin stamp voucher seru\n",
            "Before :\n",
            "Buka dari pagi, komplir menu sarapan sampe makan siang n malamnya. Menunya modelan singapure n malay style.Saya order menu :- Kopi O => secangkir kopi hitam pekat tanpa tambahan gula susu dan lainnya. Lumayan wangi kopinya n pahitnya bisa dinikmati.- Soft Boiled Eggs => tersaji satu porsi isi 2pcs. Bisa request setengah matang, 3/4 matang atau full matang. Saya request 3/4 matang. Telurnya ga amis ya, suka kuningnya agak creamy, cucok untuk sarapan pagi.- Kaya Toast => roti tawar di toast isian kaya dan tengahnya di kasi butter agak tebal. Seporsi 4pc. Garing, kayanya terasa, butter tengahnya juga wangi bukan yg mentega banget. Suka ini recommended!!- Kwetiaw Goreng Seafood => full of topping mulai dari udang, cumi, basonikan. Full daun bawang juga. Tebal n panjang2 pula potongannya. Kwetiawnya ini bisa request level pedasnya. Pedasnya ini ternyata dari potongan rawit. Karena saya request sedikit pedas jadi sedikit potongan rawit di kwetiawnya. Untuk rasanya ok, wangi smokey, gurih, agak manis. Kecapnya menurut saya agak kebanyakan. Saya lebih suka yg sedikit aja kecpa manisnya. Modelan kwetiawnya juga pendek2 gitu jadi pas diambil pake sumpit ya rada susah wkwk. Lebih nikmat dimakan dengan sendok.- Es Cincau => taste beda dari yg laen. Gulanya bukan gula pasir jadi manisnya beda dari biasanya. Authentic. Manis, seger, bikin happy makan es cincau ini.. Tiap seruput pasti dapet cincaunya. Full cincau banget!!.- Cendol Gula Melaka => penutup dengan yg manis se cendol ini. Selain cendol isiannya jg ada kacang merah yg montok ukurannya. Kuahnya selain manis juga santannya terasa, gulanya pun lagi2 bukan gula pasir. Terasa lagi di malay makan ini wkwk.Tempatnya ini ga terlalu luas tapi nyaman. Wifi nya pun oke. Teraedia juga lantai duanya bisa untuk area merokok. Untuk lanyai duanya semi outdoor ya.;[Breakast Nikmat khas Singapore di Pecenongan 🍛]Hang Tuah -- Sebuah kafe dengan konsep kopitiam ala Singapore yang ada di Pecenongan. Gue udah sering coba di cabang Kelapa Gading. Sekarang, gue mutusin buat coba di cabang mereka yang ada di Pecenongan.Di sini, gue cobain: Nasi Kari Ayam, Pink Yakult, sama Cendol Gula Melaka.Rasanya gimana?1). Nasi Kari Ayam: Dagingnya gak terlalu banyak. Bumbunya light. Berasa gurih dan santannya tapi, masih pas dan gak terlalu pekat. Enak, kok ini.2). Pink Yakult: Dominan ke asam dengan sedikit manis yang pekat.3). Cendol Gula Melaka: Rasanya milky dan memakai gula aren yang berasa banget.Tempatnya kecil tapi, tetap cozy dan nyaman. Di setiap meja ada colokan. Open kitchen.Pelayanan ramah dan friendly.;kwetiaw seafoodrasanya gurih, smokey flavor. isian nya komplit ada bakso iman, telur, udang, cumi , acar, timun & tomat. tekstur kwetiaw nya lembut, tipis. tapi sayang porsinya sedikitkaya toastrasanya enak, mentega dicampur selai srikaya, perpaduan manis dan asin gurih. tapi sayang masa roti ny lembek (soggy) padahal expect roti nya crunchypink yakultminuman warna pink yang cantik, rasanya manis seger dingin. enak sih, tapi buat aku agak kemanisan outlet di pecenongan baru reopening, jadi payment belum bisa pakai devit atau qris, cuma bisa tunai saja, pelayanan nya agak cepet, cuma cendol malaka, sold out, karena dari pagi uda habis.\n",
            "------------------------------------------------------------------------------------------------------------------------------------------------------\n",
            "After :\n",
            "Buka dari pagi komplir menu sarapan sampai makan siang n malam Menu modelan singapure n malay styleSaya order menu Kopi O secangkir kopi hitam pekat tanpa tambahan gula susu dan lain Lumayan wangi kopi n pahit bisa dinikmati Soft Boiled Eggs tersaji satu porsi isi pcs Bisa request setengah matang matang atau full matang Saya request matang Telur tidak amis ya suka kuning agak creamy cocok untuk sarapan pagi Kaya Toast roti tawar di toast isian seperti dan tengah di kasih butter agak tebal Seporsi pc Garing seperti terasa butter tengah juga wangi bukan yang mentega banget Suka ini recommended Kwetiaw Goreng Seafood full of topping mulai dari udang cumi basonikan Full daun bawang juga Tebal n panjang pula potongan Kwetiaw ini bisa request level pedas Pedas ini terta dari potongan rawit Karena saya request sedikit pedas jadi sedikit potongan rawit di kwetiaw Untuk rasa ok wangi smokey gurih agak manis Kecap menurut saya agak kebakan Saya lebih suka yang sedikit saja kecpa manis Modelan kwetiaw juga pendek begitu jadi pas diambil pakai sumpit ya rada susah wkwk Lebih nikmat dimakan dengan sendok Es Cincau taste beda dari yang lain Gula bukan gula pasir jadi manis beda dari biasa Authentic Manis segar bikin happy makan es cincau ini Tiap seruput pasti dapat cincau Full cincau banget Cendol Gula Melaka penutup dengan yang manis se cendol ini Selain cendol isian juga ada kacang merah yang montok ukuran Kuah selain manis juga santan terasa gula pun lagi bukan gula pasir Terasa lagi di malay makan ini wkwkTempat ini tidak terlalu luas tapi man Wifi pun oke Teraedia juga lantai dua bisa untuk area merokok Untuk lai dua semi outdoor yaBreakast Nikmat khas Singapore di Pecenongan Hang Tuah Sebuah kafe dengan konsep kopitiam ala Singapore yang ada di Pecenongan Gue sudah sering coba di cabang Kelapa Gading Sekarang gue memutuskan buat coba di cabang mereka yang ada di PecenonganDi sini gue mencoba Nasi Kari Ayam Pink Yakult sama Cendol Gula MelakaRasa bagaimana Nasi Kari Ayam Daging tidak terlalu bak Bumbu light Berasa gurih dan santan tapi masih pas dan tidak terlalu pekat Enak kok ini Pink Yakult Dominan ke asam dengan sedikit manis yang pekat Cendol Gula Melaka Rasa milky dan memakai gula aren yang berasa bangetTempat kecil tapi tetap cozy dan man Di setiap meja ada colokan Open kitchenPelayanan ramah dan friendlykwetiaw seafoodrasa gurih smokey flavor isian komplit ada bakso iman telur udang cumi acar timun tomat tekstur kwetiaw lembut tipis tapi sayang porsi sedikitkaya toastrasa enak mentega dicampur selai srikaya perpaduan manis dan asin gurih tapi sayang masa roti nya lembek soggy padahal expect roti crunchypink yakultminuman warna pink yang cantik rasa manis segar dingin enak sih tapi buat aku agak kemanisan outlet di pecenongan baru reopening jadi payment belum bisa pakai devit atau qris cuma bisa tunai saja pelayanan agak cepat cuma cendol malaka sold out karena dari pagi sudah habis\n",
            "------------------------------------------------------------------------------------------------------------------------------------------------------\n",
            "After Clean Stopword :\n",
            "buka pagi komplir menu sarap makan siang malam menu model singapure malay stylesaya order menu kopi cangkir kopi hitam pekat gula susu lumayan wangi kopi pahit nikmat soft boiled eggs saji porsi isi pcs request matang matang full matang request matang telur amis suka kuning creamy cocok sarap pagi kaya toast roti tawar toast isi kasih butter tebal porsi pc garing asa butter wangi mentega banget suka recommended kwetiaw goreng seafood full of topping udang cumi basonikan full daun bawang tebal potong kwetiaw request level pedas pedas terta potong rawit request pedas potong rawit kwetiaw ok wangi smokey gurih manis kecap bak suka kecpa manis model kwetiaw pendek pas ambil pakai sumpit rada susah wkwk nikmat makan sendok es cincau taste beda gula gula pasir manis beda authentic manis segar bikin happy makan es cincau seruput cincau full cincau banget cendol gula melaka tutup manis cendol cendol isi kacang merah montok ukur kuah manis santan asa gula gula pasir asa malay makan wkwktempat luas man wifi oke teraedia lantai area rokok lai semi outdoor yabreakast nikmat khas singapore pecenongan hang tuah buah kafe konsep kopitiam ala singapore pecenongan gue coba cabang kelapa gading gue putus coba cabang pecenongandi gue coba nasi kari ayam pink yakult cendol gula melakarasa nasi kari ayam daging bak bumbu light asa gurih santan pas pekat pink yakult dominan asam manis pekat cendol gula melaka milky pakai gula aren asa bangettempat cozy man meja colok open kitchenpelayanan ramah friendlykwetiaw seafoodrasa gurih smokey flavor isi komplit bakso iman telur udang cumi acar timun tomat tekstur kwetiaw lembut tipis sayang porsi sedikitkaya toastrasa mentega campur selai srikaya padu manis asin gurih sayang roti lembek soggy expect roti crunchypink yakultminuman warna pink cantik manis segar dingin sih manis outlet pecenongan reopening payment pakai devit qris tunai layan cepat cendol malaka sold out pagi habis\n",
            "Before :\n",
            "Toko tuku pertama kali di cipete ini, ternyata sekarang udah makin bedar tempatnya. Walau sekarang cabangnya sudah banyak, tapi tuku cipete masih selalu ramaiBaru-baru ini Tuku ngeluarin menu baru yaitu slushy. Ada 2 slushy yang kopi susu tetangga, dan earl grey. Aku coba datang sore tapi slushynya tinggal sisa yang earl grey. Aku beli yang slushy earl grey harganya 20rb. Aku lebih suka yang biasa sih, ga terlalu suka dibuat slushy begini, rasa earl grey nya jadi gak keluar, kurang manis juga. Oia untuk beli menu yang biasa dan slushy antriannya beda ya, yang slushy belinya di pintu yang kanan. Kalau menu yang biasa di pintu lama yang kiri.;Rasanya beda sama yang biasa saya minum, tapi mungkin lagi kurang hoki saja...;Akhirnyaa cobain yang slushy juga, dan ini baru ada di cipete aja, semoga soon bakal ada di cabang2 lainnya juga yaa, sebenernya ini sama aja sih kopinya kaya yang biasa cuma bedanya ini di blend sama ice nya gitu loh kaya slushy, tetep aja enak kok, boleh nih kalo ke cipete sekali2 cobain tuku yang slushy, cuma 20k harganya\n",
            "------------------------------------------------------------------------------------------------------------------------------------------------------\n",
            "After :\n",
            "Toko tuku pertama kali di cipete ini terta sekarang sudah makin bedar tempat Walau sekarang cabang sudah bak tapi tuku cipete masih selalu ramaiBarubaru ini Tuku mengeluarkan menu baru yaitu slushy Ada slushy yang kopi susu tetangga dan earl grey Aku coba datang sore tapi slushy tinggal sisa yang earl grey Aku beli yang slushy earl grey harga ribu Aku lebih suka yang biasa sih tidak terlalu suka dibuat slushy begini rasa earl grey jadi tidak keluar kurang manis juga Oia untuk beli menu yang biasa dan slushy antrian beda ya yang slushy beli di pintu yang kanan Kalau menu yang biasa di pintu lama yang kiriRasa beda sama yang biasa saya minum tapi mungkin lagi kurang hoki sajaAkhira mencoba yang slushy juga dan ini baru ada di cipete saja semoga soon bakal ada di cabang lain juga ya sebener ini sama saja sih kopi seperti yang biasa cuma beda ini di blend sama ice begitu loh seperti slushy tetap saja enak kok boleh nih kalo ke cipete sekali mencoba tuku yang slushy cuma ke harga\n",
            "------------------------------------------------------------------------------------------------------------------------------------------------------\n",
            "After Clean Stopword :\n",
            "toko tuku cipete terta bedar cabang bak tuku cipete ramaibarubaru tuku menu slushy slushy kopi susu tetangga earl grey coba sore slushy tinggal sisa earl grey beli slushy earl grey harga ribu suka sih suka slushy earl grey manis oia beli menu slushy antri beda slushy beli pintu kanan menu pintu kirirasa beda minum hoki sajaakhira coba slushy cipete moga soon cabang sebener sih kopi beda blend ice loh slushy nih kalo cipete coba tuku slushy harga\n",
            "Before :\n",
            "*Review untuk pesan antar (via gojek) atau takeaway  Kopi keenam yang menjadi sasaran 'berburu kopi' adalah kopi susu bu lurah, yes karena ini area jaksel jadi ini dibeli oleh rekanku yang tadi beli dibawahtangga juga, sekalian lewat. Da karena bingung mau pesen apa, jadi stay to their original one!  KOPI SUSU BU LURAH (19K) - cobain kopi lain yang kata netizen lumayan hits daerah setiabudi, sedotan pertama jujur kok gaenak tapi lama2 diminum jadi enak banget. Dia lebih strong sih kopinya kalo dibandingin kayak kopipayu or animo gitu. Jadi kalo lagi teler dan hectic jadi perlu caffeine lebih banyak, aku saranin pesen ini. Tapi again kalo bukan pecinta kopi jangan coba karena super strong haha.. Anw untuk ukuran daerah jaksel, murah sih kopinya :);Sabtu sore maen kesini khusus buat nyoba es kopi susu paling enak se-Indonesia. Tempatnya menjadi satu dgn Warung MJS, which is kamu bisa makan dgn menu warung dan minum kopi susu mereka. Menurutku, kopi susu ini enak dgn komposisi kopi yg cukup (gak strong), manisnya juga pas, harganya 19K. Bisa request less sugar, less ice. Tiap beli minuman, free kacang sukro yg bisa refill.IG: mrindramulia;Es kopi susu bu lurah salah satu yang gue suka di jakarta. Rasanya creamy, ngga terlalu strong, tapi rasa kopinya masih ada: Pas! Udah gitu dapet kacang buat cemilannya, suka banget klo dine in karena minumnya di cangkir\n",
            "------------------------------------------------------------------------------------------------------------------------------------------------------\n",
            "After :\n",
            "Review untuk pesan antar via gojek atau takeaway Kopi keenam yang menjadi sasaran berburu kopi adalah kopi susu bu lurah yes karena ini area jaksel jadi ini dibeli oleh rekanku yang tadi beli dibawahtangga juga sekalian lewat Da karena bingung mau pesan apa jadi stay tapi their original one KOPI SUSU BU LURAH K mencoba kopi lain yang kata netizen lumayan hits daerah setiabudi sedotan pertama jujur kok gaenak tapi lama diminum jadi enak banget Dia lebih strong sih kopi kalo dibandingin seperti kopipayu orang animo begitu Jadi kalo lagi teler dan hectic jadi perlu caffeine lebih bak aku menyarankan pesan ini Tapi again kalo bukan pecinta kopi jangan coba karena super strong haha Anw untuk ukuran daerah jaksel murah sih kopi Sabtu sore main kesini khusus buat mencoba es kopi susu paling enak seIndonesia Tempat menjadi satu dengan Warung MJS which is kamu bisa makan dengan menu warung dan minum kopi susu mereka Menurutku kopi susu ini enak dengan komposisi kopi yang cukup tidak strong manis juga pas harga K Bisa request less sugar less ice Tiap beli minuman free kacang sukro yang bisa refillIG mrindramuliaEs kopi susu bu lurah salah satu yang gue suka di jakarta Rasa creamy tidak terlalu strong tapi rasa kopi masih ada Pas Udah begitu dapat kacang buat cemilan suka banget kalo dine ini karena minum di cangkir\n",
            "------------------------------------------------------------------------------------------------------------------------------------------------------\n",
            "After Clean Stopword :\n",
            "review pesan via gojek takeaway kopi enam sasar buru kopi kopi susu bu lurah yes area jaksel beli rekan beli dibawahtangga da bingung pesan stay their original one kopi susu bu lurah coba kopi netizen lumayan hits daerah setiabudi sedot jujur gaenak minum banget strong sih kopi kalo dibandingin kopipayu animo kalo teler hectic caffeine bak saran pesan again kalo cinta kopi coba super strong haha anw ukur daerah jaksel murah sih kopi sabtu sore main kesini coba es kopi susu indonesia warung mjs which is makan menu warung minum kopi susu kopi susu komposisi kopi strong manis pas harga request less sugar less ice beli minum free kacang sukro refillig mrindramuliaes kopi susu bu lurah salah gue suka jakarta creamy strong kopi pas udah kacang cemilan suka banget kalo dine minum cangkir\n",
            "Before :\n",
            "I need my morning coffee. Cuzz ke Kopi Selamat Pagi. Posisi depan pasar mandiri.I ordered hot cappuccino. In my personal taste, taste coffee nya (based espresso) kurang bold ya. I prefer bold.Untuk suasana nyaman dan bersih.Ada snacks cookies dan merchandise juga.;Tempatnya enak, cukup nyantai, pet-friendly, awalnya datang karena rekomendasi saudara untuk ngopi. Kopi nya cukup oke, ada banyak pilihan makanan berat, tapi karena sudah makan belum coba untuk hari ini. Ice chocolate nya enak, dinikmati bersama dengan singkong goreng terasi. Singkongnya enak sekali, lembut dan renyah dengan sambal terasi yang pedas.;Baru pertama kali coba ke kopi selamat pagi, ternyata enak banget fnb nya!! Meski tempatnya gak begitu luas tapi super cozy. Terdiri dari 2 lantai ada indoor dan outdoor.Aku coba beberapa menunya, yaitu:FoodsSingkong Goreng Sambel Terasi ⭐️ [4/5]Size singkongnya lumayan besar, lembut dalamnya dan luarnya garing, gurih rasanya serta sambelnya nampol banget pedasnya.Roti Bakar Kacang ⭐️ [4/5]Manisnya pas, dimix bareng selai kacang makin enak rasanya.Bakmi Ayam Kampung ⭐️ [4,5/5]Mie halal enak di coffee shop, topping ayamnya lembut, juicy, enak banget deh. Mienya homemade beda banget rasanya dari mie lain, kuah kaldunya gurih banget, sambelnya juga pedas. MUST TRY!!Bakso Goreng ⭐️ [4/5]Bakso goreng tipe yang garing luarnya, chewy dalamnya. Sizenya super jumbo, dipping saucenya pedas poll.Nona Ria ⭐️ [4/5]Perpaduan teh rosela dengan cream diatasnya, diblend makin nikmat. Rasanya light dan asam(sedikit) segar.Es Kopi Selamat Pagi ⭐️ [4/5]Kopinya cukup terasa, balance rasanya gak begitu milky dan creamy.overall semuanya enak, semoga bisa ada cabang di jaksel hehe\n",
            "------------------------------------------------------------------------------------------------------------------------------------------------------\n",
            "After :\n",
            "I need my morning coffee Cuzz ke Kopi Selamat Pagi Posisi depan pasar mandiriI ordered hot cappuccino In my personal taste taste coffee based espresso kurang bold ya I prefer boldUntuk suasana man dan bersihAda snacks cookies dan merchandise jugaTempat enak cukup ntai petfriendly awal datang karena rekomendasi saudara untuk ngopi Kopi cukup oke ada bak pilihan makanan berat tapi karena sudah makan belum coba untuk hari ini Ice chocolate enak dinikmati bersama dengan singkong goreng terasi Singkong enak sekali lembut dan reh dengan sambal terasi yang pedasBaru pertama kali coba ke kopi selamat pagi terta enak banget fnb Meski tempat tidak begitu luas tapi super cozy Terdiri dari lantai ada indoor dan outdoorAku coba beberapa menu yaituFoodsSingkong Goreng Sambel Terasi Size singkong lumayan besar lembut dalam dan luar garing gurih rasa serta sambel nampol banget pedasRoti Bakar Kacang Manis pas dimix bareng selai kacang makin enak rasaBakmi Ayam Kampung Mie halal enak di coffee shop topping ayam lembut juicy enak banget deh Mie homemade beda banget rasa dari mie lain kuah kaldu gurih banget sambel juga pedas MUST TRYBakso Goreng Bakso goreng tipe yang garing luar chewy dalam Size super jumbo dipping sauce pedas pollNona Ria Perpaduan teh rosela dengan cream diatas diblend makin nikmat Rasa light dan asamsedikit segarEs Kopi Selamat Pagi Kopi cukup terasa balance rasa tidak begitu milky dan creamyoverall semua enak semoga bisa ada cabang di jaksel hehe\n",
            "------------------------------------------------------------------------------------------------------------------------------------------------------\n",
            "After Clean Stopword :\n",
            "need my morning coffee cuzz kopi selamat pagi posisi pasar mandiri ordered hot cappuccino in my personal taste taste coffee based espresso bold prefer bolduntuk suasana man bersihada snacks cookies merchandise jugatempat ntai petfriendly rekomendasi saudara ngopi kopi oke bak pilih makan berat makan coba ice chocolate nikmat singkong goreng terasi singkong lembut reh sambal terasi pedasbaru coba kopi selamat pagi terta banget fnb luas super cozy lantai indoor outdooraku coba menu yaitufoodssingkong goreng sambel terasi size singkong lumayan lembut garing gurih sambel nampol banget pedasroti bakar kacang manis pas dimix bareng selai kacang rasabakmi ayam kampung mie halal coffee shop topping ayam lembut juicy banget deh mie homemade beda banget mie kuah kaldu gurih banget sambel pedas must trybakso goreng bakso goreng tipe garing chewy size super jumbo dipping sauce pedas pollnona ria padu teh rosela cream diblend nikmat light asamsedikit segares kopi selamat pagi kopi asa balance milky creamyoverall moga cabang jaksel hehe\n",
            "Before :\n",
            "Tempatnya bisa dibilang agak hidden, karena masuk agak ke dalem gitu, tempatnya enak, nyaman, dan adem banget. Banyak ijo-ijo, bikin mata seger, pet friendly juga ini tempatnya, enaknya kesini tuh sore ke malem sih karena udah adem banget, aku cobain 2 minuman sama 1 dessert- souffle pancakeenaak, rasa telurnya strong banget, dimix sama ice cream vanilla nya enak cuman maple syrupnya bikin jadi kemanisan banget- strawberry sunsetini tuh kaya teh stroberi, enak & seger, ada potongan buah stroberinya- brown latte shakeratoenak, kopinya lumayan strong;The ambience is great 🙌🏻 cocok buat nongkrong sore-sore dan tempat ini tuh ademmm banget, bisa lihat ikan koi juga. Cocok buat WFC: speed internet kenceng, colokan banyak, sound di area cafe pun gak ganggu. 🫶🏻pet friendly🫶🏻The service is above & beyond 🙌🏻 staffnya helpful banget & informatifButter Shrimp Pasta additional Chilli nya enak banget, bukan tipe pasta yg creamy, udangnya manis & masih seger, trus ditambah perasan jeruk lemon 🫶🏻 5/5 dehLemon Chamomile Tea personally kurang suka karena bunga chamomile nya terlalu strong.Lasgana nya juga enakkk, creamy dan cheesenya banyakkk 5/5Ini satu perusahaan deh sama Brown Fox sepertinya dan FYI mereka tutup jam 20:00 last ordernya jam 19:30 yaa!;Plis ini recommended bgt buat kaluan yg mau WFC!! Tempatnya luas banyak spot bagus dan colokan banyak bgt loh! Soundnya juga ga twrlalu berisik jd aman kalo wfc disiniMakanan jug enak dan worth itKemarin pesan chicken honey mustard harganya sekitar 68.000 tapi rasanya enak bgtt wingsnya juga banyak ditambah salad jugaa dan SUPER ENAK WOI aku kasih rate ⭐️⭐️⭐️⭐️Menu ke dua garagara jatuh cinta salad nya jdi pesen pizza cheese and salad. Kemarin makan bertiga dan kenyang bg. Lagi lagi saladnya enak bgt mau nangis deh 😭😭. Tomato sauce dan cheese di campur salad toppingnyaa ini nyatu bg. Rate nya ⭐️⭐️⭐️⭐️⭐️harganya 109.000Untuk harga overall worth it bgt krn kualitas bahannya juga premium guys cobain deh✅Disini ruang solatnya bersih ✅toiletnya bersih dan wangi✅pet friendly bisa bawa hewan peliharaan karena halaman luas juga✅banyak spot bagusGass lahhhh cobain\n",
            "------------------------------------------------------------------------------------------------------------------------------------------------------\n",
            "After :\n",
            "Tempat bisa dibilang agak hidden karena masuk agak ke dalem begitu tempat enak man dan adem banget Bak ijoijo bikin mata segar pet friendly juga ini tempat enak kesini tuh sore ke malam sih karena sudah adem banget aku mencoba minuman sama dessert souffle pancakeenaak rasa telur strong banget dimix sama ice cream vanilla enak cuman maple syrup bikin jadi kemanisan banget strawberry sunsetini tuh seperti teh stroberi enak segar ada potongan buah stroberi brown latte shakeratoenak kopi lumayan strongThe ambience is great cocok buat nongkrong soresore dan tempat ini tuh adem banget bisa lihat ikan koi juga Cocok buat WFC speed internet kencang colokan bak sound di area cafe pun tidak ganggu pet friendlyThe service is above beyond staff helpful banget informatifButter Shrimp Pasta additional Chilli enak banget bukan tipe pasta yang creamy udang manis masih segar terus ditambah perasan jeruk lemon dehLemon Chamomile Tea personally kurang suka karena bunga chamomile terlalu strongLasgana juga enak creamy dan cheese bak Ini satu perusahaan deh sama Brown Fox seperti dan FYI mereka tutup jam last order jam yaaPlis ini recommended banget buat kaluan yang mau WFC Tempat luas bak spot bagus dan colokan bak banget loh Sound juga tidak twrlalu berisik jadi aman kalo wfc disiniMakanan jug enak dan worth itKemarin pesan chicken honey mustard harga sekitar tapi rasa enak banget wings juga bak ditambah salad juga dan SUPER ENAK WOI aku kasih rate Menu ke dua garagara jatuh cinta salad jadi pesan pizza cheese and salad Kemarin makan bertiga dan keng bang Lagi lagi salad enak banget mau menangis deh Tomato sauce dan cheese di campur salad toppinga ini itu bang Rate harga Untuk harga overall worth itu banget karena kualitas bahan juga premium guys mencoba dehDisini ruang solat bersih toilet bersih dan wangipet friendly bisa bawa hewan peliharaan karena halaman luas jugabak spot bagusGass lah mencoba\n",
            "------------------------------------------------------------------------------------------------------------------------------------------------------\n",
            "After Clean Stopword :\n",
            "bilang hidden dalem man adem banget bak ijoijo bikin segar pet friendly kesini tuh sore malam sih adem banget coba minum dessert souffle pancakeenaak telur strong banget dimix ice cream vanilla cuman maple syrup bikin manis banget strawberry sunsetini tuh teh stroberi segar potong buah stroberi brown latte shakeratoenak kopi lumayan strongthe ambience is great cocok nongkrong soresore tuh adem banget ikan koi cocok wfc speed internet kencang colok bak sound area cafe ganggu pet friendlythe service is above beyond staff helpful banget informatifbutter shrimp pasta additional chilli banget tipe pasta creamy udang manis segar peras jeruk lemon dehlemon chamomile tea personally suka bunga chamomile stronglasgana creamy cheese bak usaha deh brown fox fyi tutup jam last order jam yaaplis recommended banget kaluan wfc luas bak spot bagus colok bak banget loh sound twrlalu berisik aman kalo wfc disinimakanan jug worth itkemarin pesan chicken honey mustard harga banget wings bak salad super woi kasih rate menu garagara jatuh cinta salad pesan pizza cheese and salad kemarin makan keng bang salad banget menang deh tomato sauce cheese campur salad toppinga bang rate harga harga overall worth banget kualitas bahan premium guys coba dehdisini ruang solat bersih toilet bersih wangipet friendly bawa hewan pelihara halaman luas jugabak spot bagusgass coba\n"
          ]
        }
      ],
      "source": [
        "for i in range(6):\n",
        "  print('Before :')\n",
        "  print(df1['review'][i])\n",
        "  print('---'*50)\n",
        "  print('After :')\n",
        "  print(df1['text_preprocessed'][i])\n",
        "  print('---'*50)\n",
        "  print('After Clean Stopword :')\n",
        "  print(df1['clean stopword'][i])"
      ]
    },
    {
      "cell_type": "markdown",
      "metadata": {
        "id": "3yaDTDS8wQbj"
      },
      "source": [
        "Membuat Word Cloud dari Teks yang Telah Dibersihkan\n",
        "\n",
        "1. **Menggabungkan Teks Bersih**  \n",
        "   Menggunakan sintaks `corpus = \" \".join(df1['clean stopword'])` untuk menggabungkan semua teks dari kolom `clean stopword` menjadi satu string besar (*corpus*).\n",
        "\n",
        "2. **Membuat Word Cloud**  \n",
        "   Dengan `WordCloud()`, word cloud dihasilkan dari *corpus* dengan pengaturan:\n",
        "   - `max_words=100`: Maksimal 100 kata paling sering muncul.\n",
        "   - `background_color='white'`: Latar belakang berwarna putih.\n",
        "   - `min_font_size=10`: Ukuran font minimum untuk kata dalam word cloud.\n",
        "\n",
        "3. **Menampilkan Word Cloud**  \n",
        "   `plt.imshow(img)` digunakan untuk menampilkan gambar word cloud, dan `plt.axis('off')` mematikan sumbu agar gambar lebih bersih.\n",
        "   \n",
        "   Hasil akhirnya adalah visualisasi word cloud dari kata-kata yang paling sering muncul dalam teks bersih.\n"
      ]
    },
    {
      "cell_type": "code",
      "execution_count": 32,
      "metadata": {
        "colab": {
          "base_uri": "https://localhost:8080/",
          "height": 285
        },
        "id": "ecDhdVvLXtkM",
        "outputId": "f357f766-f5a8-4e13-abcf-929ad34d9c9c"
      },
      "outputs": [
        {
          "data": {
            "image/png": "[encoded data removed]",
            "text/plain": [
              "<Figure size 640x480 with 1 Axes>"
            ]
          },
          "metadata": {},
          "output_type": "display_data"
        }
      ],
      "source": [
        "corpus = \" \".join(df1['clean stopword'])\n",
        "word_cloud = WordCloud(max_words=100, background_color='white', min_font_size=10).generate(corpus)\n",
        "img = word_cloud.to_image()\n",
        "\n",
        "fig = plt.figure(1)\n",
        "plt.imshow(img)\n",
        "plt.axis('off')\n",
        "plt.show()"
      ]
    },
    {
      "cell_type": "markdown",
      "metadata": {
        "id": "gVZHmQ8Ge17u"
      },
      "source": [
        "=============================================================================================="
      ]
    },
    {
      "cell_type": "markdown",
      "metadata": {
        "id": "nFtkDOSjxI6K"
      },
      "source": [
        " Menampilkan Teks yang Telah Diproses\n"
      ]
    },
    {
      "cell_type": "code",
      "execution_count": 33,
      "metadata": {
        "colab": {
          "base_uri": "https://localhost:8080/",
          "height": 110
        },
        "id": "HqObuzDaX5Fw",
        "outputId": "41b3773a-4197-46f2-c7e5-92ac2772832e"
      },
      "outputs": [
        {
          "data": {
            "text/plain": [
              "'Food is excellent absolutely delicious The prices were reasonable and staff is sok friendly Makanan disini semua enak Makanan minuman semua punya rasa sendiri yang unik Koki pintar masak Chicken wings nagoya tebasaki enak Karaage gyudon jugaCafe vibes Jepang di Kelapa Gading Aku surah beberapa kali ke Kohicha Lokasi ada di ruko Gading Kirana dekat gerbang indomaret kembar Kali ini aku makan ber kita pesan Chicken nanban gohan ke nanban enak banget ayam gede di guyur mayo dan lemon asem segerin dan ayamnyq sudah dibumbui jadi merasuk disajikan dengan nasi porsi pas dan sayur serta jamur worth banget Chicken katsu curry ke porsi gede banget katsu tebal banget daging dijamin bakal puas banget dan sangat mengengkan curry bold and tasty Caesar salad ke sayur segar banget dilengkapi topping potongan ayam gede banget dan telur ini sih worth banget rasa juga segar dan cukup mengengkan untuk makanan sehat seperti inj Yuzu Lemon ice tea ke asem segar ala minuman sok refreshing Kiku Mint ke teh unik dengan hint minty teh agak pahit tapi mint berasa banget aroma Pesen hot bisa refill air panas kali tapi aku tidak refill ku rasa cukup heheKohicha selalu ada promo dan program kumpulin stamp untuk dapat voucher seru ya'"
            ]
          },
          "execution_count": 33,
          "metadata": {},
          "output_type": "execute_result"
        }
      ],
      "source": [
        "# Display text preproceseed\n",
        "df1['text_preprocessed'][0]"
      ]
    },
    {
      "cell_type": "markdown",
      "metadata": {
        "id": "Hw82aslNe5pi"
      },
      "source": [
        "=============================================================================================="
      ]
    },
    {
      "cell_type": "markdown",
      "metadata": {
        "id": "ReXS7D8yxjWU"
      },
      "source": [
        "Menerapkan Simple Preprocessing pada Teks\n",
        "\n",
        "Sintaks berikut digunakan untuk melakukan pra-pemrosesan sederhana pada teks di kolom `text_preprocessed` menggunakan fungsi `simple_preprocess` dari Gensim:\n"
      ]
    },
    {
      "cell_type": "markdown",
      "metadata": {
        "id": "KWz7Z1Sbx96c"
      },
      "source": [
        "- df1.text_preprocessed: Mengambil kolom text_preprocessed yang berisi teks yang telah diproses sebelumnya.\n",
        "- apply(gensim.utils.simple_preprocess): Menerapkan metode simple preprocessing dari Gensim untuk setiap teks dalam kolom. Fungsi ini akan:\n",
        "  - Mengubah teks menjadi huruf kecil (lowercasing).\n",
        "  - Menghapus tanda baca dan karakter khusus.\n",
        "  - Memecah teks menjadi daftar kata (tokenization).\n",
        "  \n",
        "Hasil akhirnya disimpan dalam variabel text_reviews, yang berisi daftar kata-kata terpisah dari setiap teks yang telah diproses."
      ]
    },
    {
      "cell_type": "code",
      "execution_count": 34,
      "metadata": {
        "colab": {
          "base_uri": "https://localhost:8080/",
          "height": 458
        },
        "id": "-9gHjF71YCkd",
        "outputId": "8fa11cf6-ebf3-478b-b8f7-70c348029396"
      },
      "outputs": [
        {
          "data": {
            "text/plain": [
              "0       [food, is, excellent, absolutely, delicious, t...\n",
              "1       [buka, dari, pagi, komplir, menu, sarapan, sam...\n",
              "2       [toko, tuku, pertama, kali, di, cipete, ini, t...\n",
              "3       [review, untuk, pesan, antar, via, gojek, atau...\n",
              "4       [need, my, morning, coffee, cuzz, ke, kopi, se...\n",
              "                              ...                        \n",
              "1495    [pagi, pagi, menunggu, mall, buka, semua, jadi...\n",
              "1496    [minimarket, tapi, rasa, kafe, alfax, sebuah, ...\n",
              "1497    [salah, satu, kopi, terenak, di, scbd, tempat,...\n",
              "1498    [diantara, dishes, yang, ada, di, starbucks, g...\n",
              "1499    [saya, beberapa, kali, ke, starbucks, ini, kar...\n",
              "Name: text_preprocessed, Length: 1500, dtype: object"
            ]
          },
          "execution_count": 34,
          "metadata": {},
          "output_type": "execute_result"
        }
      ],
      "source": [
        "text_reviews = df1.text_preprocessed.apply(gensim.utils.simple_preprocess)\n",
        "text_reviews"
      ]
    },
    {
      "cell_type": "markdown",
      "metadata": {
        "id": "Kud-27vQyYuX"
      },
      "source": [
        "Menerapkan Simple Preprocessing pada Teks yang Sudah Bersih dari Stopwords\n",
        "\n",
        "Sintaks berikut digunakan untuk melakukan pra-pemrosesan sederhana pada teks yang telah dibersihkan dari stopwords menggunakan fungsi `simple_preprocess` dari Gensim:\n"
      ]
    },
    {
      "cell_type": "code",
      "execution_count": 35,
      "metadata": {
        "colab": {
          "base_uri": "https://localhost:8080/",
          "height": 458
        },
        "id": "AkOpGpMTYcuE",
        "outputId": "80521328-6660-4043-c156-01cc8f5b34cc"
      },
      "outputs": [
        {
          "data": {
            "text/plain": [
              "0       [food, is, excellent, absolutely, delicious, t...\n",
              "1       [buka, pagi, komplir, menu, sarap, makan, sian...\n",
              "2       [toko, tuku, cipete, terta, bedar, cabang, bak...\n",
              "3       [review, pesan, via, gojek, takeaway, kopi, en...\n",
              "4       [need, my, morning, coffee, cuzz, kopi, selama...\n",
              "                              ...                        \n",
              "1495    [pagi, pagi, tunggu, mall, buka, nongkrong, jc...\n",
              "1496    [minimarket, kafe, alfax, buah, minimarket, sa...\n",
              "1497    [salah, kopi, scbd, lumayan, comfy, indoor, ou...\n",
              "1498    [dishes, starbucks, gue, suka, new, york, chee...\n",
              "1499    [starbucks, salah, starbucks, term, jumat, sab...\n",
              "Name: clean stopword, Length: 1500, dtype: object"
            ]
          },
          "execution_count": 35,
          "metadata": {},
          "output_type": "execute_result"
        }
      ],
      "source": [
        "text_reviews_stopped = df1['clean stopword'].apply(gensim.utils.simple_preprocess)\n",
        "text_reviews_stopped"
      ]
    },
    {
      "cell_type": "markdown",
      "metadata": {
        "id": "cqWUJfhie9IW"
      },
      "source": [
        "=============================================================================================="
      ]
    },
    {
      "cell_type": "markdown",
      "metadata": {
        "id": "x_9au2-zyygH"
      },
      "source": [
        "## **6. Modeling**"
      ]
    },
    {
      "cell_type": "markdown",
      "metadata": {
        "id": "qcK0tNuUy73g"
      },
      "source": [
        "### **6.1 Model 1 (Kolom Text Preprocessed)**"
      ]
    },
    {
      "cell_type": "markdown",
      "metadata": {
        "id": "mzZjaDNLzTjm"
      },
      "source": [
        "#### Membangun Model Word2Vec dengan parameter:\n",
        "- Word2Vec: Kelas dari Gensim untuk membuat model Word2Vec.\n",
        "- window=10: Menentukan jumlah kata di sekitar kata target yang akan diperhitungkan saat membangun vektor kata. Dalam hal ini, 10 kata di sebelah kiri dan kanan kata target.\n",
        "- min_count=2: Hanya mempertimbangkan kata yang muncul minimal 2 kali dalam korpus. Ini berguna untuk mengabaikan kata-kata yang sangat jarang dan mengurangi kompleksitas model.\n",
        "- alpha=0.11: Menentukan laju pembelajaran awal (learning rate) untuk model. Nilai ini mengontrol seberapa cepat model belajar dari data.\n",
        "- seed=10: Menetapkan nilai acak untuk memastikan hasil yang konsisten saat menjalankan model berkali-kali."
      ]
    },
    {
      "cell_type": "code",
      "execution_count": 36,
      "metadata": {
        "id": "pMwZvDq_Yotj"
      },
      "outputs": [],
      "source": [
        "# Model 1\n",
        "model = Word2Vec(\n",
        "    window=10,\n",
        "    min_count=2,\n",
        "    alpha=0.11,\n",
        "    seed=10\n",
        "    )"
      ]
    },
    {
      "cell_type": "markdown",
      "metadata": {
        "id": "EjxXR21z1Dkf"
      },
      "source": [
        "#### Membangun Kosakata untuk Model Word2Vec\n",
        "\n",
        "Sintaks berikut digunakan untuk membangun kosakata (vocabulary) dari data yang telah diproses menggunakan model **Word2Vec**\n",
        "\n",
        "model akan mengidentifikasi semua kata unik dari data dan menyimpannya untuk digunakan dalam pelatihan model.\n"
      ]
    },
    {
      "cell_type": "code",
      "execution_count": 37,
      "metadata": {
        "id": "wkRcrgt2Yr9y"
      },
      "outputs": [],
      "source": [
        "model.build_vocab(text_reviews, progress_per=1000)\n"
      ]
    },
    {
      "cell_type": "markdown",
      "metadata": {
        "id": "UPOlk4Qy1qyR"
      },
      "source": [
        "#### Melatih Model Word2Vec\n",
        "\n",
        "Sintaks berikut digunakan untuk melatih model **Word2Vec** dengan data yang telah diproses\n",
        "\n",
        "model akan belajar mengasosiasikan kata-kata satu sama lain berdasarkan konteks mereka dalam teks, menghasilkan vektor kata yang dapat digunakan untuk aplikasi NLP."
      ]
    },
    {
      "cell_type": "code",
      "execution_count": 38,
      "metadata": {
        "colab": {
          "base_uri": "https://localhost:8080/"
        },
        "id": "bmH4F7ZKYuw7",
        "outputId": "f7358965-bd64-4d82-c957-25bef0f5a69b"
      },
      "outputs": [
        {
          "data": {
            "text/plain": [
              "(1700458, 2198485)"
            ]
          },
          "execution_count": 38,
          "metadata": {},
          "output_type": "execute_result"
        }
      ],
      "source": [
        "model.train(text_reviews, total_examples=model.corpus_count, epochs=model.epochs)\n"
      ]
    },
    {
      "cell_type": "markdown",
      "metadata": {
        "id": "FRTlqysC2KVG"
      },
      "source": [
        "#### Mencari Kata yang Paling Mirip dengan Word2Vec\n",
        "\n",
        "Sintaks berikut digunakan untuk menemukan kata-kata yang paling mirip dengan kata \"nyaman\" dalam model **Word2Vec**:\n"
      ]
    },
    {
      "cell_type": "code",
      "execution_count": 39,
      "metadata": {
        "colab": {
          "base_uri": "https://localhost:8080/"
        },
        "id": "Eqb2RYRyY3SL",
        "outputId": "c39e40be-6666-421f-e5cf-0478c2cf5358"
      },
      "outputs": [
        {
          "data": {
            "text/plain": [
              "[('pw', 0.6813517212867737),\n",
              " ('asyik', 0.6735429763793945),\n",
              " ('asik', 0.672146201133728),\n",
              " ('soresore', 0.6582518815994263),\n",
              " ('pewe', 0.6438744068145752),\n",
              " ('ngerjain', 0.6290806531906128),\n",
              " ('mendukung', 0.6267157793045044),\n",
              " ('internet', 0.6149081587791443),\n",
              " ('hutan', 0.6130527853965759),\n",
              " ('damai', 0.611923336982727)]"
            ]
          },
          "execution_count": 39,
          "metadata": {},
          "output_type": "execute_result"
        }
      ],
      "source": [
        "model.wv.most_similar(\"nyaman\")"
      ]
    },
    {
      "cell_type": "markdown",
      "metadata": {
        "id": "131b63wT3Q8v"
      },
      "source": [
        "Penjelasan Hasil:\n",
        "\n",
        "- Setiap tuple dalam hasil terdiri dari dua elemen: kata yang mirip dan nilai kemiripannya (skor antara 0 dan 1).\n",
        "- Semakin tinggi nilai kemiripan, semakin dekat kata tersebut dalam konteks makna atau penggunaan.\n",
        "- Kata-kata yang muncul, seperti 'crowded' dan 'comfy', menunjukkan bahwa model telah belajar asosiasi konteks yang relevan dari korpus data yang digunakan dalam pelatihan.\n",
        "- Hasil ini berguna untuk memahami bagaimana kata \"nyaman\" berhubungan dengan kata lain dalam konteks yang lebih luas."
      ]
    },
    {
      "cell_type": "code",
      "execution_count": 40,
      "metadata": {
        "colab": {
          "base_uri": "https://localhost:8080/"
        },
        "id": "K9Iat9XtZBVq",
        "outputId": "b47c2fce-e486-45f1-8671-8149bf7508e8"
      },
      "outputs": [
        {
          "data": {
            "text/plain": [
              "[('shot', 0.6204900741577148),\n",
              " ('syrup', 0.6094390153884888),\n",
              " ('acid', 0.6028398871421814),\n",
              " ('distilled', 0.5898092985153198),\n",
              " ('creamer', 0.5868032574653625),\n",
              " ('blend', 0.5853399634361267),\n",
              " ('menghasilkan', 0.5744392275810242),\n",
              " ('tonic', 0.5707843899726868),\n",
              " ('robusta', 0.5698467493057251),\n",
              " ('oatside', 0.569245457649231)]"
            ]
          },
          "execution_count": 40,
          "metadata": {},
          "output_type": "execute_result"
        }
      ],
      "source": [
        "# melihat kata yang mirip dengan input bersih\n",
        "model.wv.most_similar(\"espresso\")"
      ]
    },
    {
      "cell_type": "code",
      "execution_count": 41,
      "metadata": {
        "colab": {
          "base_uri": "https://localhost:8080/"
        },
        "id": "yGFD-UjVZEf1",
        "outputId": "579ced97-ae24-4835-f788-c82e8ed75b3c"
      },
      "outputs": [
        {
          "data": {
            "text/plain": [
              "[('kesana', 0.4563080668449402),\n",
              " ('dipegang', 0.4545782506465912),\n",
              " ('minum', 0.4367731511592865),\n",
              " ('ngedessert', 0.4314611256122589),\n",
              " ('pengajian', 0.4307265281677246),\n",
              " ('laper', 0.4199802279472351),\n",
              " ('manja', 0.3868931829929352),\n",
              " ('ngemil', 0.38583794236183167),\n",
              " ('ngopi', 0.3833692669868469),\n",
              " ('lapar', 0.3807852864265442)]"
            ]
          },
          "execution_count": 41,
          "metadata": {},
          "output_type": "execute_result"
        }
      ],
      "source": [
        "model.wv.most_similar(\"makan\")"
      ]
    },
    {
      "cell_type": "markdown",
      "metadata": {
        "id": "-7IGxYSy3xs0"
      },
      "source": [
        "#### Menghitung Kemiripan Antara Dua Kata\n",
        "\n",
        "Sintaks berikut digunakan untuk menghitung tingkat kemiripan antara dua kata, \"tebet\" dan \"cipete\", menggunakan model **Word2Vec**:\n"
      ]
    },
    {
      "cell_type": "code",
      "execution_count": 42,
      "metadata": {
        "colab": {
          "base_uri": "https://localhost:8080/"
        },
        "id": "RkFt4__AZHde",
        "outputId": "f3dd7a1a-d6e8-4e23-cffb-d96f489bc692"
      },
      "outputs": [
        {
          "data": {
            "text/plain": [
              "0.6902312"
            ]
          },
          "execution_count": 42,
          "metadata": {},
          "output_type": "execute_result"
        }
      ],
      "source": [
        "model.wv.similarity(w1=\"tebet\", w2=\"cipete\")"
      ]
    },
    {
      "cell_type": "markdown",
      "metadata": {
        "id": "21bLrb8Q3_h3"
      },
      "source": [
        "- Nilai **0.5566** menunjukkan bahwa terdapat tingkat kemiripan yang moderat antara kedua kata tersebut.\n",
        "- Skor ini berada di antara 0 dan 1, yang berarti bahwa \"tebet\" dan \"cipete\" memiliki beberapa kesamaan dalam konteks penggunaannya, meskipun tidak identik.\n",
        "- Nilai ini bisa menunjukkan bahwa kedua kata mungkin berkaitan dengan konsep atau lokasi yang sama, tergantung pada konteks korpus yang digunakan untuk pelatihan model.\n",
        "\n",
        "Hasil ini berguna untuk memahami hubungan semantik antara dua kata dalam konteks yang lebih luas."
      ]
    },
    {
      "cell_type": "markdown",
      "metadata": {
        "id": "3ZPLO25ue_KB"
      },
      "source": [
        "=============================================================================================="
      ]
    },
    {
      "cell_type": "markdown",
      "metadata": {
        "id": "PChJIG9jzA4f"
      },
      "source": [
        "### **6.2 Model 2 (Kolom Clean Stopword)**"
      ]
    },
    {
      "cell_type": "markdown",
      "metadata": {
        "id": "3ewrV8PLDsNv"
      },
      "source": [
        "Kita akan membuat model kedua yaitu menggunakan vobulary berdasarkan kolom Clean Stopword"
      ]
    },
    {
      "cell_type": "code",
      "execution_count": 43,
      "metadata": {
        "id": "Xzs-p2YvZNdM"
      },
      "outputs": [],
      "source": [
        "# Model 2\n",
        "model_2 = Word2Vec(\n",
        "    window=10,\n",
        "    min_count=2,\n",
        "    alpha=0.15,\n",
        "    seed=10\n",
        ")"
      ]
    },
    {
      "cell_type": "markdown",
      "metadata": {
        "id": "6ae-VY3hDksH"
      },
      "source": [
        "Selanjutnya membuat vocabulary untuk model 2"
      ]
    },
    {
      "cell_type": "code",
      "execution_count": 44,
      "metadata": {
        "id": "zyebxoGtZQJ-"
      },
      "outputs": [],
      "source": [
        "model_2.build_vocab(text_reviews_stopped, progress_per=1000)\n"
      ]
    },
    {
      "cell_type": "markdown",
      "metadata": {
        "id": "dbetlScgD_PW"
      },
      "source": [
        "Melakukan train terhadap model 2"
      ]
    },
    {
      "cell_type": "code",
      "execution_count": 45,
      "metadata": {
        "colab": {
          "base_uri": "https://localhost:8080/"
        },
        "id": "gyLsZv3RZSi4",
        "outputId": "90fd80ce-2f1b-48a8-de33-8c90c077a23b"
      },
      "outputs": [
        {
          "data": {
            "text/plain": [
              "(1070353, 1289785)"
            ]
          },
          "execution_count": 45,
          "metadata": {},
          "output_type": "execute_result"
        }
      ],
      "source": [
        "model_2.train(text_reviews_stopped, total_examples=model_2.corpus_count, epochs=model_2.epochs)\n"
      ]
    },
    {
      "cell_type": "markdown",
      "metadata": {
        "id": "zxnk2cKffFI1"
      },
      "source": [
        "=============================================================================================="
      ]
    },
    {
      "cell_type": "markdown",
      "metadata": {
        "id": "Qfc_mfQ1EDry"
      },
      "source": [
        "Setelah melakukan train kita akan melakukan pengecekan model untuk melihat kemiripan kata"
      ]
    },
    {
      "cell_type": "code",
      "execution_count": 46,
      "metadata": {
        "colab": {
          "base_uri": "https://localhost:8080/"
        },
        "id": "CP4EvaDrZVi7",
        "outputId": "cd2461f7-2ef8-45ef-d2c7-1282eadc4e09"
      },
      "outputs": [
        {
          "data": {
            "text/plain": [
              "[('tega', 0.4971228241920471),\n",
              " ('krasa', 0.4859233796596527),\n",
              " ('caribbean', 0.4834875762462616),\n",
              " ('latterasa', 0.48115503787994385),\n",
              " ('lattekopi', 0.4687378406524658),\n",
              " ('butterscotch', 0.44044387340545654),\n",
              " ('oz', 0.43668755888938904),\n",
              " ('cappucinno', 0.4291872978210449),\n",
              " ('bitterness', 0.4288552403450012),\n",
              " ('latteidr', 0.4252678453922272)]"
            ]
          },
          "execution_count": 46,
          "metadata": {},
          "output_type": "execute_result"
        }
      ],
      "source": [
        "model_2.wv.most_similar(\"latte\")"
      ]
    },
    {
      "cell_type": "code",
      "execution_count": 47,
      "metadata": {
        "colab": {
          "base_uri": "https://localhost:8080/"
        },
        "id": "f0QKCQpOZYmR",
        "outputId": "8fc8da27-8b1e-4180-b04b-db37d9489390"
      },
      "outputs": [
        {
          "data": {
            "text/plain": [
              "[('stopkontak', 0.6035947799682617),\n",
              " ('mushola', 0.5781691670417786),\n",
              " ('toilet', 0.5776536464691162),\n",
              " ('mandi', 0.5643312335014343),\n",
              " ('kamar', 0.5221698880195618),\n",
              " ('fotofoto', 0.5141471028327942),\n",
              " ('tunjang', 0.5059780478477478),\n",
              " ('kotor', 0.4935179650783539),\n",
              " ('jelasin', 0.4884185492992401),\n",
              " ('gercep', 0.48596319556236267)]"
            ]
          },
          "execution_count": 47,
          "metadata": {},
          "output_type": "execute_result"
        }
      ],
      "source": [
        "model_2.wv.most_similar(\"bersih\")"
      ]
    },
    {
      "cell_type": "code",
      "execution_count": 48,
      "metadata": {
        "colab": {
          "base_uri": "https://localhost:8080/"
        },
        "id": "lZDI4nyAZbOl",
        "outputId": "0ef27d6b-37c1-462a-d027-158552f82419"
      },
      "outputs": [
        {
          "data": {
            "text/plain": [
              "-0.013640732"
            ]
          },
          "execution_count": 48,
          "metadata": {},
          "output_type": "execute_result"
        }
      ],
      "source": [
        "model_2.wv.similarity(w1=\"makan\", w2=\"rokok\")"
      ]
    },
    {
      "cell_type": "markdown",
      "metadata": {
        "id": "aefwR2hnEf7-"
      },
      "source": [
        "Setelah melakukan pengecekan :\n",
        "\n",
        "- Kita bisa melihat bahwa saat menggunakan kata latte yang muncul dengan nilai kemiripan tertinggi adalah kata oat.\n",
        "- Setelah melakukan input dengan kata bersih kita bisa melihat bahwa kata stopkontak mempunyai nilai kemiripan tertinggi dengan kata bersih\n",
        "- kita bisa melihat bahwa makan dan rokok mempunyai nilai yang kecil"
      ]
    },
    {
      "cell_type": "markdown",
      "metadata": {
        "id": "B-S_FfkRfG3D"
      },
      "source": [
        "=============================================================================================="
      ]
    },
    {
      "cell_type": "markdown",
      "metadata": {
        "id": "evIrxJIiVz2u"
      },
      "source": [
        "### **6.3 Perbandingan dua model**"
      ]
    },
    {
      "cell_type": "markdown",
      "metadata": {
        "id": "5AtanUsTV4ho"
      },
      "source": [
        "Fungsi di bawah di gunakan untuk mencoba kedua model"
      ]
    },
    {
      "cell_type": "code",
      "execution_count": 49,
      "metadata": {
        "id": "zaMA6uVrZdxA"
      },
      "outputs": [],
      "source": [
        "# Function Uji Coba\n",
        "def testing_similar(text):\n",
        "  res_1 = model.wv.most_similar(text)\n",
        "  res_2 = model_2.wv.most_similar(text)\n",
        "  print('Hasil Model 1 :',res_1)\n",
        "  print('Hasil Model 2 :',res_2)"
      ]
    },
    {
      "cell_type": "code",
      "execution_count": 50,
      "metadata": {
        "colab": {
          "base_uri": "https://localhost:8080/"
        },
        "id": "XaYoqFhVZhX5",
        "outputId": "45f03ed9-7549-43b9-ea7f-e079fb139d2a"
      },
      "outputs": [
        {
          "name": "stdout",
          "output_type": "stream",
          "text": [
            "Hasil Model 1 : [('nyegerin', 0.6779065132141113), ('asem', 0.6653982400894165), ('semangka', 0.648356556892395), ('seger', 0.6381472945213318), ('yakult', 0.6266288161277771), ('lemon', 0.6091227531433105), ('kecut', 0.5925498604774475), ('menyegarkan', 0.5903277397155762), ('squash', 0.5885729193687439), ('markisa', 0.5767176747322083)]\n",
            "Hasil Model 2 : [('nyegerin', 0.590661346912384), ('sparkling', 0.5840718150138855), ('blackcurrant', 0.5824453234672546), ('sonkit', 0.5797114968299866), ('kasem', 0.5556654930114746), ('kiwi', 0.5416586995124817), ('seger', 0.5210778117179871), ('dahaga', 0.5200566053390503), ('yakult', 0.5189208984375), ('kunyit', 0.5183567404747009)]\n"
          ]
        }
      ],
      "source": [
        "testing_similar(\"segar\")"
      ]
    },
    {
      "cell_type": "markdown",
      "metadata": {
        "id": "ZvZWTN6wWAuo"
      },
      "source": [
        "Pada percobaan pertama, menurut kami model 1 lebih memperlihatkan kemiripan kata dengan target kata yang telah di input sebelumnya, \"segar\".\n",
        "\n",
        "Kami akan mencoba kembali model dengan kata lain."
      ]
    },
    {
      "cell_type": "code",
      "execution_count": 51,
      "metadata": {
        "colab": {
          "base_uri": "https://localhost:8080/"
        },
        "id": "XKtjWgK8WPpA",
        "outputId": "82b85f4e-bcb8-402b-97c0-a012633f8b69"
      },
      "outputs": [
        {
          "name": "stdout",
          "output_type": "stream",
          "text": [
            "Hasil Model 1 : [('wajar', 0.6649884581565857), ('terjangkau', 0.6615562438964844), ('pajak', 0.6379704475402832), ('pricey', 0.619912326335907), ('affordable', 0.6182836890220642), ('reasonable', 0.6158332824707031), ('seharga', 0.6150442361831665), ('pricely', 0.6011726260185242), ('mahal', 0.5974130630493164), ('kemahalan', 0.586005687713623)]\n",
            "Hasil Model 2 : [('standart', 0.6230118274688721), ('worth', 0.6002807021141052), ('mahal', 0.5913492441177368), ('worthit', 0.586573600769043), ('gimanadia', 0.584567666053772), ('pajak', 0.5563854575157166), ('gimanagak', 0.5541402101516724), ('pricey', 0.5526728630065918), ('sihrasa', 0.5509623289108276), ('segitu', 0.550358235836029)]\n"
          ]
        }
      ],
      "source": [
        "testing_similar(\"murah\")"
      ]
    },
    {
      "cell_type": "code",
      "execution_count": 52,
      "metadata": {
        "colab": {
          "base_uri": "https://localhost:8080/"
        },
        "id": "rxLVyc1Jj8n0",
        "outputId": "4a3c5f79-3022-4007-9a53-3bf69c3a9f03"
      },
      "outputs": [
        {
          "name": "stdout",
          "output_type": "stream",
          "text": [
            "Hasil Model 1 : [('mandja', 0.5520398020744324), ('paradista', 0.5477907657623291), ('lurah', 0.5144800543785095), ('arabica', 0.4871159791946411), ('batavia', 0.47429779171943665), ('anteng', 0.46474170684814453), ('kito', 0.4620877206325531), ('espresso', 0.461858868598938), ('perbandingan', 0.45748212933540344), ('robusta', 0.4505992531776428)]\n",
            "Hasil Model 2 : [('coklatt', 0.5709899067878723), ('kitkatt', 0.5525012612342834), ('awan', 0.503314197063446), ('arabica', 0.4999377131462097), ('teguk', 0.4979601502418518), ('kopia', 0.4975093603134155), ('netral', 0.48216044902801514), ('guyu', 0.4672130346298218), ('watery', 0.46524572372436523), ('djawa', 0.4572833776473999)]\n"
          ]
        }
      ],
      "source": [
        "testing_similar(\"kopi\")"
      ]
    },
    {
      "cell_type": "code",
      "execution_count": 53,
      "metadata": {
        "colab": {
          "base_uri": "https://localhost:8080/"
        },
        "id": "5lnB5GIfkHGe",
        "outputId": "f3a5e6ef-7784-404e-be34-4f42080da4db"
      },
      "outputs": [
        {
          "name": "stdout",
          "output_type": "stream",
          "text": [
            "Hasil Model 1 : [('mrt', 0.615140438079834), ('tujuanku', 0.5836049318313599), ('letak', 0.582184910774231), ('pejaten', 0.5786128640174866), ('perkantoran', 0.5743734836578369), ('lege', 0.5699968338012695), ('posisi', 0.5680676102638245), ('masjid', 0.5562899708747864), ('pertandingan', 0.5514551997184753), ('cipete', 0.5485353469848633)]\n",
            "Hasil Model 2 : [('yasudah', 0.6353242993354797), ('inn', 0.5421215295791626), ('macet', 0.532526969909668), ('center', 0.5322659611701965), ('busway', 0.5214009284973145), ('pejaten', 0.5176801681518555), ('mal', 0.5152910351753235), ('ashta', 0.5128793716430664), ('gajauh', 0.5107924938201904), ('nyebrang', 0.49763748049736023)]\n"
          ]
        }
      ],
      "source": [
        "testing_similar(\"kantor\")"
      ]
    },
    {
      "cell_type": "code",
      "execution_count": 54,
      "metadata": {
        "colab": {
          "base_uri": "https://localhost:8080/"
        },
        "id": "Q-p7vv4NkNvG",
        "outputId": "adde3e87-54eb-480a-db68-339c58218000"
      },
      "outputs": [
        {
          "name": "stdout",
          "output_type": "stream",
          "text": [
            "Hasil Model 1 : [('cappuccino', 0.5942285656929016), ('cappucino', 0.48816031217575073), ('cotecube', 0.47360724210739136), ('hak', 0.47054576873779297), ('cangkir', 0.4658219814300537), ('beans', 0.462205171585083), ('cappucinno', 0.4600836932659149), ('gaol', 0.4528617858886719), ('juno', 0.4521876573562622), ('kopimenu', 0.44932490587234497)]\n",
            "Hasil Model 2 : [('cappuccino', 0.5215103626251221), ('lattee', 0.5164406299591064), ('stronger', 0.5120068192481995), ('damage', 0.47857484221458435), ('elder', 0.47820156812667847), ('beans', 0.47150009870529175), ('robusta', 0.46059390902519226), ('kafein', 0.460103303194046), ('fruity', 0.45374417304992676), ('kick', 0.45100119709968567)]\n"
          ]
        }
      ],
      "source": [
        "testing_similar (\"americano\")"
      ]
    },
    {
      "cell_type": "code",
      "execution_count": 55,
      "metadata": {
        "colab": {
          "base_uri": "https://localhost:8080/"
        },
        "id": "dvkwoqbJkaEu",
        "outputId": "92520597-ce59-40b8-8e1e-7a9b4415ae37"
      },
      "outputs": [
        {
          "name": "stdout",
          "output_type": "stream",
          "text": [
            "Hasil Model 1 : [('kesana', 0.4563080668449402), ('dipegang', 0.4545782506465912), ('minum', 0.4367731511592865), ('ngedessert', 0.4314611256122589), ('pengajian', 0.4307265281677246), ('laper', 0.4199802279472351), ('manja', 0.3868931829929352), ('ngemil', 0.38583794236183167), ('ngopi', 0.3833692669868469), ('lapar', 0.3807852864265442)]\n",
            "Hasil Model 2 : [('bibimbap', 0.37340477108955383), ('dimaum', 0.36811959743499756), ('maccaroni', 0.3668915331363678), ('ngelaptop', 0.36652785539627075), ('lapar', 0.36092808842658997), ('variasi', 0.3585953116416931), ('apaapa', 0.3569978177547455), ('inioverall', 0.35549044609069824), ('tekwan', 0.3542524576187134), ('lontong', 0.34927576780319214)]\n"
          ]
        }
      ],
      "source": [
        "testing_similar ('makan')"
      ]
    },
    {
      "cell_type": "code",
      "execution_count": 56,
      "metadata": {
        "colab": {
          "base_uri": "https://localhost:8080/"
        },
        "id": "HIO9nAa6knl9",
        "outputId": "553a7be6-d123-4358-ccbe-bcd3ccc60ed3"
      },
      "outputs": [
        {
          "name": "stdout",
          "output_type": "stream",
          "text": [
            "Hasil Model 1 : [('man', 0.6524909138679504), ('pewe', 0.6073725819587708), ('homey', 0.6066602468490601), ('sound', 0.5833067893981934), ('asik', 0.5710569024085999), ('ngumpul', 0.563795268535614), ('nyaman', 0.5539466142654419), ('comfy', 0.5495073199272156), ('minimalis', 0.545183539390564), ('charger', 0.5416919589042664)]\n",
            "Hasil Model 2 : [('comfy', 0.5343879461288452), ('agna', 0.5343326330184937), ('nyaman', 0.5062379240989685), ('kumpulkumpul', 0.5032670497894287), ('bangettempat', 0.4753292500972748), ('ngumpul', 0.47033610939979553), ('arisan', 0.46637845039367676), ('kopitempat', 0.46379733085632324), ('minimalist', 0.4545934200286865), ('homey', 0.45384180545806885)]\n"
          ]
        }
      ],
      "source": [
        "testing_similar(\"cozy\")"
      ]
    },
    {
      "cell_type": "markdown",
      "metadata": {
        "id": "PJ3wi9cOlxVI"
      },
      "source": [
        "\n",
        "\n",
        "Setelah melakukan beberapa kali percobaan dan evaluasi, kami menyimpulkan bahwa **Model 1** merupakan model terbaik dalam mencari kata-kata yang mirip dengan target input dibandingkan dengan **Model 2**. Hal ini terlihat dari kemampuannya dalam menangkap makna dan konteks kata yang lebih akurat.\n",
        "\n",
        "#### Justifikasi Pemilihan Model 1\n",
        "1. **Akurasi Kemiripan yang Lebih Baik**: Model 1 mampu menangkap kata-kata yang relevan dengan input pengguna lebih baik dibandingkan Model 2. Dalam kasus percobaan, Model 1 dapat mengenali kata-kata yang lebih dekat secara semantis dengan input target.\n",
        "   \n",
        "2. **Threshold Kemiripan**: Dari evaluasi, kami menetapkan bahwa hanya kemiripan dengan skor di atas 40% yang akan digunakan. Jika kemiripan di bawah 40%, model cenderung mengembalikan kata-kata yang tidak relevan. Sebagai contoh, ketika input adalah kata \"makan\", dan jika angka similarity di bawah 40%, model mulai mengembalikan kata-kata seperti \"beku\" atau \"lembut\", yang kurang relevan dengan konsep \"makan\".\n",
        "\n",
        "3. **Contoh Kasus**: Dalam kasus penggunaan kata kunci seperti \"makan\", Model 1 secara konsisten memberikan hasil yang lebih relevan. Ketika similarity di bawah threshold 40%, hasil yang diberikan sudah cenderung tidak terkait dengan kata input, sehingga nilai ambang batas ini dipilih untuk menjaga relevansi hasil rekomendasi.\n",
        "\n",
        "Oleh karena itu, kami memutuskan untuk menggunakan **Model 1** sebagai model yang dipilih, dengan aturan bahwa hanya kata-kata dengan kemiripan lebih dari 40% yang akan digunakan dalam rekomendasi, dan kemiripan di bawah angka tersebut akan diabaikan untuk menjaga relevansi.\n"
      ]
    },
    {
      "cell_type": "markdown",
      "metadata": {
        "id": "vKamkaIbfjEd"
      },
      "source": [
        "=============================================================================================="
      ]
    },
    {
      "cell_type": "markdown",
      "metadata": {
        "id": "RdZWSnu9Xj64"
      },
      "source": [
        "## **6.4 Model simulation**\n",
        "\n",
        "Pada bagian ini, kami akan mencoba terlebih dahulu model menggunakan fungsi input_user. Argumen/attribute yang di gunakan untuk fungsi ini adalah harga, daerah, cuisine, text1, text2, text3, dan fasilitas. Untuk fasilitas sendiri akan di set default sebagai None.\n"
      ]
    },
    {
      "cell_type": "code",
      "execution_count": 57,
      "metadata": {
        "id": "NBpmsKFX18VX"
      },
      "outputs": [],
      "source": [
        "def input_user(harga, daerah, cuisine, text1, text2, text3, fasilitas=None):\n",
        "    # Memfilter data berdasarkan kriteria dengan partial matching untuk 'full_address' dan case-insensitive untuk 'cuisine'\n",
        "    if harga < 20000:\n",
        "        print(\"Harga tidak boleh kurang dari 20.000\")\n",
        "        return \"\"  # Mengembalikan string kosong jika harga kurang dari 20.000\n",
        "\n",
        "    data_1 = df1[\n",
        "        (df1['price_from'] <= harga) &  # Format minimum harga yang akan dibelanjakan\n",
        "        (df1['full_address'].str.contains(daerah, case=False, na=False)) &  # Partial match tanpa case-sensitive\n",
        "        (df1['cuisine'].str.lower() == cuisine.lower())  # Memfilter berdasarkan cuisine tanpa case-sensitive\n",
        "    ]\n",
        "\n",
        "    # Pemetaan fasilitas dari nama yang lebih sederhana ke kolom DataFrame\n",
        "    fasilitas_mapping = {\n",
        "        'smoking area': 'smoking_area_available',\n",
        "        'outdoor seat': 'outdoor_seat_available',\n",
        "        'full time': 'full_time_available',\n",
        "        'vip room': 'vip_room_available',\n",
        "        'reservation': 'reservation_available',\n",
        "        'parking area': 'parking_area_available'\n",
        "    }\n",
        "\n",
        "    # Menambahkan filter untuk fasilitas jika ada\n",
        "    if fasilitas is not None:\n",
        "        for fasilitas_item in fasilitas:\n",
        "            fasilitas_item_lower = fasilitas_item.lower()  # Menjadikan huruf kecil untuk memudahkan pencocokan\n",
        "            if fasilitas_item_lower in fasilitas_mapping:\n",
        "                data_1 = data_1[data_1[fasilitas_mapping[fasilitas_item_lower]] == True]\n",
        "\n",
        "    # Jika tidak ada data yang cocok, kembalikan string kosong\n",
        "    if data_1.empty:\n",
        "        return \"\"  # Mengembalikan string kosong jika tidak ada data yang cocok\n",
        "\n",
        "    # List untuk menyimpan kata mirip\n",
        "    all_similar_word = []\n",
        "\n",
        "    # Define top n word\n",
        "    topn = 5\n",
        "\n",
        "    # Cek kata pertama dan cari similar words\n",
        "    if text1 in model.wv:\n",
        "        res_1 = model.wv.most_similar(text1, topn=topn)\n",
        "        all_similar_word.extend([word[0] for word in res_1 if word[1] > 0.4])\n",
        "\n",
        "    # Cek kata kedua\n",
        "    if text2 in model.wv:\n",
        "        res_2 = model.wv.most_similar(text2, topn=topn)\n",
        "        all_similar_word.extend([word[0] for word in res_2 if word[1] > 0.4])\n",
        "\n",
        "    # Cek kata ketiga\n",
        "    if text3 in model.wv:\n",
        "        res_3 = model.wv.most_similar(text3, topn=topn)\n",
        "        all_similar_word.extend([word[0] for word in res_3 if word[1] > 0.4])\n",
        "\n",
        "    # Hilangkan kata duplikat\n",
        "    all_similar_word = list(set(all_similar_word))\n",
        "\n",
        "    # List untuk menyimpan hasil score similarity\n",
        "    nilai_similarity = []\n",
        "\n",
        "    # Menghitung similarity score berdasarkan kata-kata mirip\n",
        "    for review in data_1['clean stopword']:\n",
        "        score = 0\n",
        "        for word in all_similar_word:\n",
        "            score += review.count(word)  # Menghitung kemunculan kata mirip dalam review\n",
        "        nilai_similarity.append(score)\n",
        "\n",
        "    # Menambahkan similarity score ke dalam DataFrame\n",
        "    data_1 = data_1.copy()  # Buat salinan untuk menghindari SettingWithCopyWarning\n",
        "    data_1['similarity_score'] = nilai_similarity\n",
        "\n",
        "    # Memfilter hanya review dengan similarity_score > 0\n",
        "    data_1 = data_1[data_1['similarity_score'] > 0]\n",
        "\n",
        "    # Mengembalikan hasil dalam bentuk paragraf\n",
        "    if data_1.empty:\n",
        "        return \"\"  # Kembalikan string kosong jika tidak ada review yang cocok\n",
        "\n",
        "    # Mengambil review teratas\n",
        "    top_reviews = data_1.sort_values(by='similarity_score', ascending=False).head(5)\n",
        "\n",
        "    # Format output sesuai dengan permintaan\n",
        "    output_list = []\n",
        "    for _, row in top_reviews.iterrows():\n",
        "        # Menyiapkan kolom boolean yang akan ditampilkan\n",
        "        facilities = []\n",
        "        if row['wifi_available']:\n",
        "            facilities.append(\"WiFi\")\n",
        "        if row['outdoor_seat_available']:\n",
        "            facilities.append(\"Outdoor Seat\")\n",
        "        if row['full_time_available']:\n",
        "            facilities.append(\"Full Time\")\n",
        "        if row['vip_room_available']:\n",
        "            facilities.append(\"VIP Room\")\n",
        "        if row['reservation_available']:\n",
        "            facilities.append(\"Reservation\")\n",
        "        if row['parking_area_available']:\n",
        "            facilities.append(\"Parking Area\")\n",
        "\n",
        "        # Membuat output untuk setiap baris\n",
        "        output = (\n",
        "            f\"Nama Kafe: {row['title']}, rating: {row['rate']}/5\\n\"\n",
        "            f\"Alamat lengkap: {row['full_address']}\\n\"\n",
        "            f\"Jam Buka: {row['opening_hours']}\\n\"\n",
        "            f\"Harga: Rp. {row['price_from']} - Rp. {row['price_till']}\\n\"\n",
        "            f\"Fasilitas: {', '.join(facilities)}\\n\"\n",
        "            f\"Review: {row['review']}\\n\"  # Menggunakan 'clean stopword' sebagai review\n",
        "        )\n",
        "        output_list.append(output)\n",
        "\n",
        "    return \"\\n\".join(output_list)  # Mengembalikan hasil sebagai string\n"
      ]
    },
    {
      "cell_type": "markdown",
      "metadata": {
        "id": "aEuzy73sGvkc"
      },
      "source": [
        "Fungsi input_user\n",
        "\n",
        "Fungsi ini memfilter data restoran atau kafe berdasarkan beberapa kriteria: harga, lokasi, jenis makanan (cuisine), dan fasilitas yang tersedia. Fungsi juga menghitung similarity score antara review pengguna dengan kata-kata yang mirip menggunakan model1 Word2Vec. Langkah-langkahnya adalah:\n",
        "\n",
        "1. Validasi Harga: Memastikan harga tidak kurang dari 20.000. Jika kurang, fungsi mengembalikan DataFrame kosong.\n",
        "2. Filter Data: Memilih data yang sesuai dengan:\n",
        "  - Harga maksimum.\n",
        "  - Alamat sesuai dengan daerah (partial match case-insensitive).\n",
        "  - Jenis makanan (case-insensitive).\n",
        "3. Fasilitas: Jika fasilitas tertentu diinginkan, data difilter berdasarkan fasilitas yang tersedia (misalnya, smoking area atau parking area).\n",
        "4. Word2Vec Similarity: Fungsi mencari kata-kata mirip berdasarkan input (text1, text2, text3) menggunakan model Word2Vec, kemudian menghitung berapa kali kata-kata mirip tersebut muncul dalam review.\n",
        "5. Sorting: Data diurutkan berdasarkan similarity score dan dikembalikan 5 teratas.\n",
        "\n",
        "Output akhir adalah data kafe atau restoran yang memiliki review paling mirip dengan input pengguna."
      ]
    },
    {
      "cell_type": "code",
      "execution_count": 58,
      "metadata": {
        "colab": {
          "base_uri": "https://localhost:8080/"
        },
        "id": "TyDMNNsJ2b5E",
        "outputId": "b95f9a72-e3a3-43ee-a23d-d7e1215808ef"
      },
      "outputs": [
        {
          "name": "stdout",
          "output_type": "stream",
          "text": [
            "Nama Kafe: Butteria Menteng, rating: 3.99/5\n",
            "Alamat lengkap: Menteng, Jl. HOS Cokroaminoto No. 54, Menteng, Jakarta Pusat\n",
            "Jam Buka: Senin - Minggu (10:00 - 22:00)\n",
            "Harga: Rp. 100000.0 - Rp. 200000.0\n",
            "Fasilitas: Outdoor Seat, Reservation, Parking Area\n",
            "Review: Ke butteria menteng, hanya karena craving for tiramisu nya. Suasanya lebih enak daripada yang di Butteria PIM ya. Jadi saya pesan tiramisu nya. Menurut saya enak dan tdk overwhekmed dgn susu.For sure, Everyone's got their favorite version of the classic dessert, klo aku suka yang;Serba hijau dan orange interior Butteria, ruang duduk indoor ada dua bagian, di lantai satu dan lantai dua, adem dan ngga terlalu luas. Menuju lantai dua harus melewati smoking area yang fotoable dulu, decornya nampak seru.Pelayanan bagus, staff ramah semua kecuali resepsionis di depan, kurang sabar waktu saya datang bareng teman dan orang tuanya, minta kita buru buru duduk dan jutek saat ditanyai produk.Untungnya pesanan saya, Hot Cocoa -58rb, enak, bold dan sudah manis, tetap dilengkapi whipped cream tambahan dalam cawan terpisah, bisa ditambahkan ke dalam minuman, sesuai selera saja.Gelatonya juga enak, saya pesan yang single 38rb, satu cup cukup puas karena rasa pistachio yang saya pilih benar benar nutty.Teman saya pesan teh Jardin de fleurs-45rb, disajikan dalam teko frenc press, tinggal tuang ke dalam cangkir cantik.Untuk teman ngeteh dan nyoklat, pesan Pistasche Framboise -75rb, sepotong cake pistachio berlayer selang seling antara krim dan cake, teksturnya lembut tapi sayang sekali krimnya kelewat manis.Pecinta bolu jadul, harus banget pesan Classic Moka-68rb, mokanya enak, cukup manis dan nutty, potongannya juga tebal jadi memang cocok buat sharing.Lain lagi dengan Tiramisu -68rb, disajikan dalam mangkuk kaca, terkesan mevvah, rasa tiramisunya creamy dan smooth sewaktu di sendok, enak sekali dan ini porsinya juga cukup besar.;Karena tempatnya bersebelahan sama Fat Duck, jadilah mampir lagi ke sini. Dan sebenarnya sedang ada promo gelato dan croissant. Tapi sudah kekenyangan ya dari resto sebelah. Tapi ujung2nya teteup pesan gelato dua rasa juga. Lalu tergoda cakes juga. Jadi ini yang kami pesen :2 gelato masing2 2 varian:1 gelato varian chocolat noir & mixed berries yogurt (IDR 48K)1 gelato varian ferrero romeo & snickers (IDR 56K - krn ferrero termasuk premium maka ada tambahan IDR 8K)Gak ada yang failed, IMHO.Untuk cakes:Pistachio Framboise (IDR 75K)A bit too sweet for our taste, ukurannya lumayan gede, bisa buat berduaClassique Moka (IDR 68K)Nah yang ini rasa mochanya seperti kue2 mocha yang jadul. Tiramisu (IDR 68K)Tidak mengandung alkohol, ada bahannya disebutkan oleh waitress tapi lupa namanya. Lembut pas dimakan.Teh panas Jardin De Fleurs (IDR 45K)Harga2 belum termasuk service dan pajak. Untuk kunjungan kedua ini, lebih memuaskan dari yang sebelumnya. Areanya indoor dan semi outdoor di bagian belakang. Di belakang lebih #Photofriendly tapi lebih panas dari yang di depan. Durasi makan 90 menit, tapi kebetulan saya duduk lebih lama karena jalan sama ibu, gak bisa cepet2 ya. Kebetulan, tidak ada waiting list jadi mereka tidak mengingatkan saya bahwa waktunya sudah habis.\n",
            "\n",
            "Nama Kafe: Common Grounds Menteng, rating: 3.78/5\n",
            "Alamat lengkap: Menteng, SOI, Lantai 1, Jl. Teuku Cik Ditiro No. 10, Menteng, Jakarta Pusat\n",
            "Jam Buka: Senin - Minggu (07:00 - 20:00)\n",
            "Harga: Rp. 100000.0 - Rp. 200000.0\n",
            "Fasilitas: WiFi, Outdoor Seat, VIP Room, Reservation, Parking Area\n",
            "Review: Suasananya super chill, tapi sayangnya gak semua table tersedia colokan listrik huhuhu minus di situ. Padahal buat kerja asik banget suasananya. Aku di sini juga sekalian meeting sama klien, dan kami merasa nyaman di sini, gak begitu berisik walaupun ramai dan jam makan siang.Aku pesan Hamburg Steak untuk makanannya. Tbh, untuk waktu penyajian terbilang lama, terus pegawainya... :( agak cuek dan kurang banget hahaha. Rasa makanannya sebetulnya standar aja tapi scrambled eggs-nya enak banget. The savory sauce juga taste great but overall for the taste ya biasa aja sih. Dagingnya somehow juga dingin :( Buat mixed berries, kurang lama deh juice-nya karena masih banyak berry yang gak kejus dan jadinya gabisa disedot pakai sedotan, agak annoying.;Kali ini saya hanya memesan beberapa minuman saja. Saya datang dengan tujuan bercengkerama dengan teman lama setelah makan berat di tempat lain. Ada beberapa point yang saya ingin rangkum, yakni : 1. Earl Grey Tea 38k (2/5)Kali ini saya memesan earl grey tea. Seinget saya mereka mencantumkan TWG sebagai merk teh yang dipakai. Yang saya rasakan tehnya sangat biasa saja. Earl greynya tidak terasa karena air yang di pakai banyak sekali (diberi 1 teapot besar beserta cangkir teh with saucer). Biasa saya ketika memesan teh bermerk, akan diberi 1 kantong teh celup dan menuangkan air panas sendiri. Saya lebih suka dengan kantong teh celup karena disini saya bisa nenyesuaikan dengan preferensi saya selain itu akan jauhlebih terasa rasa tehnya jika masih terdapat kantong teh di dalamnya.2. Suasana (4/5)Dari interior, tempat duduk serta toiletnya sangat bersih, rapi dan juga terkesan higienis. Tempatnya lumayan enak untuk ngobrol-ngobrol ataupun work from cafe. Good job for managing the place.3. Pelayanan (3/5)Layaknya pelayanan seperti di restoran kebanyakan, waitress tidak bisa dibilang ramah ataupun tidak sopan. Mereka bekerja secara profesional tapi tidak lebih ataupun tidak kurang. Kesimpulannya sptnya saya akan berpikir\" lagi untuk kesini lagi. Karena dari segi\" dan aspek\" yang ditawarkan kalah dengan tempat-tempat lain. Semoga kedepannya bisa lebih baik lagi.;Waktu itu pertama kali coba kesini dan tertarik buat coba fried chicken & waffle karena difoto keliatan tempting, dan ternyata untuk chickennya teksturnya crispy diluar dan masih juicy banget dagingnya tapi kalo buat aku bumbu tepung ayamnya keasinan, wafflenya sih biasa aja ya, tapi pas disatuin pake maple syrup jadi enak rasanya, ada manis dan asin.Untuk tempatnya sangat nyaman dan parkirnya luas, tempatnya juga cocok buat foto foto karena Instagramable, kalo kalian mau foto foto bisa juga kesini karena banyak spot foto yang bagusss👍\n",
            "\n",
            "Nama Kafe: Maple & Oak Menteng, rating: 3.93/5\n",
            "Alamat lengkap: Menteng, De Ritz Building, Lantai Ground, Jl. HOS Cokroaminoto No. 91, Menteng, Jakarta Pusat\n",
            "Jam Buka: Senin - Kamis (08:00 - 22:00), Jumat (08:00 - 24:00), Sabtu (07:00 - 24:00), Minggu (07:00 - 22:00)\n",
            "Harga: Rp. 100000.0 - Rp. 200000.0\n",
            "Fasilitas: WiFi, Outdoor Seat, Reservation, Parking Area\n",
            "Review: Tempatnya agak ndak keliatan jadi kami sempat kelewatan😅 tapi cocok kok dengan titik di Google Maps. Suasana resto enak dan bersih, terlihat eksklusif, cocok untuk yang suka foto2😊 kami pilih di outdoor untuk menikmati suasana pagi di Menteng.Kami pesan 2 makanan dan 2 minuman, berikut reviewnya:1. Maple Butter & Brioche ⭐️7.5/10Untuk aku yang belum pernah dan pengen coba breakfast ala ala, menurutku ini cukup enakk. Rotinya lembut banget dan cocok sama beef baconnya, tapi untuk maple butternya aku kurang cocok mungkin karena ga biasa makan asin campur manis kali yaa😆 tapi boleh dicobaa kalau penasaran. Sayur dan folded scrambled eggnya juga enakk banget😋2. Chicken Parmigiana ⭐️7.5/10Ini menu suamiku yang pesen, aku cuma coba2 sedikit tapi yg paling kusuka adalah kentangnya! Sebagai penyuka kentang aku approve haha😊 ayam dan saus tomatnya juga enakk3. Green Detox & Yellow Immune Press ⭐️9/10Pressed juicenya enakk, asemnya pas (suamiku penyuka asem2, jadi approved lah yaa), segerr, bisa ditambah es juga kalau mau, tapi kita no icee.Overall nice ambience, kenyang banget walaupun keliatannya sedikit, pelayannya juga ramah dan cekatan. Oiya toiletnya juga bersih dan nyaman☺️Sekian terima kasih❤️;New brunch spot‼️Mampir ke maple & oak setelah mereka renovasi dengan konsep baru. Brunch place by day & wine bar at night! Dengan wooden interior & warm light yang bikin suasanya homey! Service 💯💯, untuk parkir agak susah tapi bisa parkir di sebelah gedungnya. The food still as good as last time, but there’s a huge difference in their food price. So….. is it worth the price? ✨Mapple butter brioche (8.5/10)Menu andalan kalau kesini! Jujur rasanya emang enak. Scrambled eggnya fluffy, brioche toastnya enak. Highlightnya adalah…. kombinasi butter & maple syrupnya. Kombinasinya saling melengkap, dapet semua rasanya! ✨Mushroom Cream Linguine (7/10) Creamy banget dengan pasta yang al dente. Tapi gak dapet protein sama sekali… cuma mushroomnya aja😂 Overall rasanya biasa aja. So…… i guess next time bakal balik untuk cobain wine barnya tapi!;The newly renovated OG brunch place in Menteng. Curious to try out their wine bar MO next time📍MentengService and Ambiance 7.5/10Price $$🐈Worth to tryBaklava French Toast (100k) 7.5/10As a self proclaimed french toast connoisseur, I had to try this menu. I was a bit taken aback with how big the portion was but overall it was quite good. The croissant loaf concept was really unique unfortunately couldn’t really taste the croissant layers. I think the loaves got soaked by all the decadent toppings of pistachio custard, mascarpone, honey, and ice cream. All these components tasted great but did make the croissant heavy after a while. The freshness from the berries really helped to lighten the dish though.Smoked Salmon Croque Madame (130k) 6.5/10Fairly straightforward dish. Well done tweak done to a classic brunch menu if a bit monotone in taste for me. My friend noted that smoked salmons were too little vs the bread ratio. We also couldn’t really taste the truffle in this dish. The mustard and smoked salmon did prevent the dish from being too heavy.\n",
            "\n",
            "Nama Kafe: Kopikalyan Menteng, rating: 4.25/5\n",
            "Alamat lengkap: Menteng, Jl. Teuku Cik Ditiro No. 38, Menteng, Jakarta Pusat\n",
            "Jam Buka: Senin - Minggu (07:00 - 23:00)\n",
            "Harga: Rp. 50000.0 - Rp. 100000.0\n",
            "Fasilitas: WiFi, Outdoor Seat, Reservation, Parking Area\n",
            "Review: [ Save & Share ]Collab Kreasi Tropis Giggly Coco  x kopi kalyan Buat yang ngaku suka kopi, wajib nih cobain kopi pake Coconut milk yanh super creamy dan smooth. Kali ini Giggly Coco collab sama Kopi Kalyan yang mengeluarkan 2 macam menu :✨Es Kopi Arengaperpaduan single espresso, dengan coconut milk dan kalyan sauce. Tekstur nya tuh smooth dan creamy, enak sih, ga nyangka pake coconut milk bisa seenak ini✨Coco Chai Thickshakeminuman non coffee dari es krim vanilla, chai sauce dan coconut milk. diatasnya dikasih whipped cream. rasanya creamy, mirip smoothies dan berasa rempah nya.✨ Alternatif Pengganti whole milk untuk Cappuccino, Latte, Matcha, Chocolate, Chai Latte. Rasanya light, creamy dan cocok buat kamu yang vegan atau lactose free. Terbuat dari premium coconut, tanpa tambahan minyak sayur dan rendah gula. Giggly Coco@gigglycoco.id Giggly Coco Coconut Milk tersedia di Tokopedia dan Shopee. Menu Collab ini tersedia di Kopi Kalyan Wijaya, Menteng & BSDfollow @itsme_michloveeat;Coffeshop dengan tema industrial memang sangat menjamur di Kota Jakarta, salah satu yang lagi ngehits banget adalah Kopi Kalyan. Lokasinya berada tepat di Shophous Cikini.Karena dekat dengan banyak kampus dan perkantoran, indoor tempat ini yang luas cocok banget untuk kerja nugasan ataupun skripsian karena adem dan power outlet tersebar dimana2. Untuk yang suka rokok juga ada 2 tempat, outdoor dan indoor ac dan sampai saat ini masih 1 lantai aja.Aku disini memesan:1. Kopi Kaltan Single (39k)Jujurly sih ini untuk harga dan rasa walaupun bukan fresh brewed worthit. Walaupun dia di claim 100% arabica, karena ini coffee paling basic mereka pastinya dominan nya rasa creamy nya dong. Enak sih, creamy nya dapet, manisnya dapet walaupun kopinya jujur slight aja. Better sih kalo mau kopinya berasa mesen yang double atau menu-menu signature mereka~2. Kaffe Creme (46k)Nah ini salah satu menu signature mereka, yang creamy yang atasnya ada ice blend. Walaupun creamy ini Kopinya dominan banget dan gula aren nya juga berasa. Serta kalo mesen ini dapet potongan cake rasa pandan.Disini menunya Basicnya sih ini semua Kopi Susu Gula Aren cuman enak-enak banget. Kalo menurut aku sih worthit sih, apalagi kalo nongkinya berlama-lama paling parkiranya padet walaupun ada valet.;Lokasi outlet terbaru KopiKalyan ada di sebelah Shophaus Menteng. Tempatnya spacious, terbagi area indoor, semi outdoor dan outdoor. Indoornya nyaman, di area common table ACnya dingin. Outdoor areanya di backyard dan tidak terlalu spacious tapi terlihat cukup asri dengan tanaman dan pepohonan hijau. Datang dengan teman2 untuk ngopi aja. Saya order Talas Berry To Go (47.5k) – minuman kaleng dengan komposisi talas, blueberry, susu segar. Jadi ini Taro latte dengan hint berry yang mild. Dilengkapi dengan rice crispy dalam sachet kecil. Ini enak banget deh, taronya berasa natural dan premium, manisnya pas. Ditambahin rice crispy jadi lebih enak deh ada tekstur crunchy. Saya suka taro latte jadi happy deh ketemu minuman enak ini. Recommended untuk yang suka taro.Cobain matcha latte pesanan teman, duh ini juga enak banget creamy, matchanya berasa, tidak pahit. Recommended. Teman yang lain order Es Kopi Kalyan, ga sempat cobain tapi katanya tetap enak dan konsisten dari dulu.Pasti akan kembali lagi ke sini untuk mencoba menu yang lainnya.\n",
            "\n",
            "Nama Kafe: Aumont Kofie Cikini, rating: 4.03/5\n",
            "Alamat lengkap: Cikini, Asatu Area, Jl. RP. Soeroso No. 1, Cikini, Menteng, Jakarta Pusat\n",
            "Jam Buka: Senin - Minggu (07:00 - 22:00)\n",
            "Harga: Rp. 0.0 - Rp. 50000.0\n",
            "Fasilitas: WiFi, Outdoor Seat, Parking Area\n",
            "Review: Setelah membuka cabang pertama di Bogor, kini Aumont Kofie hadir juga di Jakarta, tepatnya di Cikini. Lokasinya di dalam Asatu Area, mudah dijangkau karena lokasinya di tepi jalan dan berada di seberang halte RP Soeroso jadi bisa diakses juga dengan public transport (Transjakarta & Mikrotrans).Tempatnya bagus, suasananya nyaman dan baristnya pun ramah jadi bikin betah. Ada smoking area juga di bagian depan, ada musholla dan cocok untuk wfc karena ada wifi dan stop kontak. Menunya ada kopi, non kopi, pastry dan lasagna. Memang nggak ada menu main course sih tapi ukuran pastrynya lumayan gede kok jadi harusnya cukup mengenyangkan. Di sini aku coba strandbar (40.000) dan risol mayo (15.000). Aku pilih strandbar atas rekomendasi baristanya sih karena katanya minuman ini cocok diminum di siang hari yang cerah, kebetulan aku datang pas cuaca lagi panas-panasnyaaa. Menurutku rekomendasi baristanya nggak salah, Strandbar ini seger banget dengan rasa asam manis dan sensasi soda. Kalau risol mayonya menurutku sedikit keasinan, tapi enak karena isinya padat dan bisa dicocol ke chilli sauce supaya lebih balance.;Mampir kesini pas lewatin mau ngantor, buka dari pagi jadi melipir. Untuk tempatnya bersih, nyaman dan enakeun buat merenung pagi-pagi yekan wkwk.Pesan untuk dine in London Fog (38,000) dan take away hot cappuccino (36,000) untuk kedua minuman nya enak, tipe yang nyaman di lidah terutama untuk london fog yang susu hangat banget base nya, jadi ga bikin perut bergejolak pagi-pagi hehe;Coffee shop asal Bogor yang membuka cabang keduanya di Jakarta. Lokasinya ada di Asatu Area, semacam tempat bermain futsal, pada awalnya aku kira Asatu Area ini akan menjadi semacam compound space. Tempatnya ini ada outdoor di bagian depan sebelum pintu masuk dan sisanya ada indoor area. Aku suka indoor areanya pewe banget dan coffee barnya juga cakep banget. Mas baristanya juga ramah banget lho.Menu kurang lebih sama seperti yang ada di Bogor, cuma kalau di sini ada tambahan smoothies. Kalau ingin mengisi perut ada beberapa pilihan pastry dan snack di displaynya.Aku pesan V60 pakai beans dari @saysomething Aku pilih yang Guji Diima Lychee Parfume dengan notes lychee, jasmine, citrus zest, palm sugar. Agak cupu sih lidahku, tapi paling berasa citrusnya, agak bold, tapi ga sampai pahit kok.Pesan juga coffee mocktail mereka yang Florence 1919, dengan campuran coffee, blueberry, apple juice, tonic water. Ga cuma tampilannya yang cantik, tapi rasanya juga enak. Ada after taste spicy yang unik juga. Karena agak lapar, aku pesan risol mayo, oke juga lho ini, isiannya enak dan ga hambar, disajikan dengan saus sambal.Ku lihat mereka juga ada jual merchandise, gemes sama tasnya, tapi belum bisa dibeli karena ga ada harga dan mas baristnya ga tahu juga harganya 😂Cocok buat jadi pilihan untuk ngopi pagi di sekitar Menteng dan Cikini, tenang banget di sini, betah lama - lama di sini. Playlist lagunya juga enak. Stop kontak dan wifi juga ada bagi yang ingin laptopan.\n",
            "\n"
          ]
        }
      ],
      "source": [
        "print(input_user(\n",
        "    harga=500000,\n",
        "    daerah=\"menteng\",\n",
        "    cuisine=\"kafe\",\n",
        "    text1=\"americano\",\n",
        "    text2=\"buah\",\n",
        "    text3=\"sedap\",\n",
        "    fasilitas=[\"smoking area\",\n",
        "    \"outdoor seat\"]\n",
        "    ))"
      ]
    },
    {
      "cell_type": "markdown",
      "metadata": {
        "id": "J0s-6WpjR3mr"
      },
      "source": [
        "Berdasarkan hasil yang di dapat, model telah berfungsi dengan baik dan dapat memberikan rekomendasi yang tepat."
      ]
    },
    {
      "cell_type": "markdown",
      "metadata": {
        "id": "AZlAaZ1M874f"
      },
      "source": [
        "## **7. Model Saving**"
      ]
    },
    {
      "cell_type": "markdown",
      "metadata": {
        "id": "Z-Zm_DXJws0g"
      },
      "source": [
        "Setelah model **Word2Vec** dilatih, kita dapat menyimpannya menggunakan model tersebut\n",
        "\n",
        "dari kedua model yang telah dilatih, hasil dari perbandingan model tersebut model pertama lebih baik dibandingkan dengan model yang kedua maka kita menyimpan model yang pertama"
      ]
    },
    {
      "cell_type": "code",
      "execution_count": 59,
      "metadata": {
        "id": "_pMpW8uU9sur"
      },
      "outputs": [],
      "source": [
        "# Contoh jika model adalah Word2Vec\n",
        "model.save(\"word2vec_model.model\")"
      ]
    },
    {
      "cell_type": "markdown",
      "metadata": {
        "id": "8iO8mEVOcRC7"
      },
      "source": [
        "## **8. Conclusion & Next Improvement**"
      ]
    },
    {
      "cell_type": "markdown",
      "metadata": {
        "id": "ddH277IacbDt"
      },
      "source": [
        "Proyek ini berhasil membangun model rekomendasi kafe berbasis NLP yang dapat memberikan rekomendasi berdasarkan lokasi, fasilitas, dan kata kunci yang diinginkan. Dengan menggunakan teknik seperti stemming, tokenisasi, Word2Vec, dan visualisasi WordCloud, kami mampu menghasilkan hasil yang relevan dengan harapan pengguna."
      ]
    },
    {
      "cell_type": "markdown",
      "metadata": {
        "id": "f06dP5PSclaM"
      },
      "source": [
        "Improvement yang bisa di lakukan di kemudian hari adalah:\n",
        "\n",
        "\n",
        "1. Peningkatan Akurasi Model\n",
        "Meskipun Word2Vec dapat memahami hubungan antar kata, menggunakan teknik pemodelan yang lebih canggih seperti **BERT (Bidirectional Encoder Representations from Transformers)** dapat membantu model menangkap konteks yang lebih mendalam dari ulasan. BERT mampu memahami kata dalam konteks kalimat, sehingga dapat memberikan rekomendasi yang lebih akurat.\n",
        "\n",
        "2. Penambahan Fitur Tambahan\n",
        "Menambahkan fitur-fitur tambahan seperti **rating pelanggan**, **jumlah kunjungan**, atau **waktu buka kafe** dapat memperkaya model dan membuat rekomendasi lebih relevan. Misalnya, kafe dengan rating tinggi mungkin lebih diprioritaskan dalam hasil rekomendasi.\n",
        "\n",
        "3. Pengembangan Sistem Filter yang Lebih Fleksibel\n",
        "Saat ini, pengguna hanya bisa memfilter berdasarkan lokasi, fasilitas, dan kata kunci. Pengembangan lebih lanjut bisa mencakup **filter berdasarkan budget**, **menu makanan/minuman tertentu**, atau **waktu operasional**. Ini akan membuat pengalaman pengguna lebih personal.\n",
        "\n",
        "4. Integrasi dengan API atau Data Real-Time\n",
        "Mengintegrasikan sistem dengan **Google Places API** atau **platform media sosial** untuk mendapatkan data ulasan real-time dan lebih up-to-date dapat meningkatkan kualitas rekomendasi. Hal ini memungkinkan pengguna mendapatkan rekomendasi yang lebih relevan dan terkini.\n",
        "\n"
      ]
    }
  ],
  "metadata": {
    "colab": {
      "provenance": [],
      "toc_visible": true
    },
    "kernelspec": {
      "display_name": "base",
      "language": "python",
      "name": "python3"
    },
    "language_info": {
      "codemirror_mode": {
        "name": "ipython",
        "version": 3
      },
      "file_extension": ".py",
      "mimetype": "text/x-python",
      "name": "python",
      "nbconvert_exporter": "python",
      "pygments_lexer": "ipython3",
      "version": "3.12.3"
    }
  },
  "nbformat": 4,
  "nbformat_minor": 0
}
